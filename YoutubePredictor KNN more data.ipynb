{
 "cells": [
  {
   "cell_type": "code",
   "execution_count": 1,
   "metadata": {},
   "outputs": [],
   "source": [
    "#pip install --upgrade google-api-python-client"
   ]
  },
  {
   "cell_type": "code",
   "execution_count": 2,
   "metadata": {},
   "outputs": [],
   "source": [
    "#pip install --upgrade google-auth-oauthlib google-auth-httplib2"
   ]
  },
  {
   "cell_type": "code",
   "execution_count": 3,
   "metadata": {},
   "outputs": [],
   "source": [
    "import os\n",
    "import google_auth_oauthlib.flow\n",
    "import googleapiclient.discovery\n",
    "import googleapiclient.errors\n",
    "import pandas as pd\n",
    "import numpy as np\n",
    "import seaborn as sns\n",
    "from matplotlib import pyplot as plt\n",
    "%matplotlib inline\n",
    "\n",
    "from sklearn.preprocessing import StandardScaler\n",
    "from sklearn.model_selection import train_test_split\n",
    "from sklearn.neighbors import KNeighborsClassifier\n",
    "from sklearn.metrics import classification_report, confusion_matrix"
   ]
  },
  {
   "cell_type": "code",
   "execution_count": 4,
   "metadata": {},
   "outputs": [],
   "source": [
    "scopes = [\"https://www.googleapis.com/auth/youtube.force-ssl\"]"
   ]
  },
  {
   "cell_type": "code",
   "execution_count": 5,
   "metadata": {},
   "outputs": [
    {
     "name": "stdout",
     "output_type": "stream",
     "text": [
      "Please visit this URL to authorize this application: https://accounts.google.com/o/oauth2/auth?response_type=code&client_id=615288565318-dd7us4i9infmai01fr3n2nlff2cb44f3.apps.googleusercontent.com&redirect_uri=urn%3Aietf%3Awg%3Aoauth%3A2.0%3Aoob&scope=https%3A%2F%2Fwww.googleapis.com%2Fauth%2Fyoutube.force-ssl&state=4o2DHFBa7cNkpa9f8kuAEjdnnArWNc&prompt=consent&access_type=offline\n",
      "Enter the authorization code: 4/1AY0e-g5giuSln_iucfQezTtzSUAxt3ahui97VhLEGjBFU4OthdMNk_vcos4\n"
     ]
    }
   ],
   "source": [
    "os.environ[\"OAUTHLIB_INSECURE_TRANSPORT\"] = \"1\"\n",
    "    \n",
    "api_service_name = \"youtube\"\n",
    "api_version = \"v3\"\n",
    "client_secrets_file = \"client_secret_615288565318-dd7us4i9infmai01fr3n2nlff2cb44f3.apps.googleusercontent.com.json\"\n",
    "    \n",
    "flow = google_auth_oauthlib.flow.InstalledAppFlow.from_client_secrets_file(client_secrets_file, scopes)\n",
    "credentials = flow.run_console()\n",
    "youtube = googleapiclient.discovery.build(api_service_name, api_version, credentials=credentials)"
   ]
  },
  {
   "cell_type": "code",
   "execution_count": 6,
   "metadata": {},
   "outputs": [],
   "source": [
    "def simple_search(keywords, num_results):\n",
    "    request = youtube.search().list(\n",
    "        q=keywords,\n",
    "        part=\"id\",\n",
    "        type=\"video\",\n",
    "        fields=\"items/id\",\n",
    "        maxResults=num_results\n",
    "    )\n",
    "    response = request.execute()\n",
    "    \n",
    "    videos = []\n",
    "    for search_result in response.get(\"items\",[]):\n",
    "        videos.append(\"%s\" % (search_result[\"id\"][\"videoId\"]))\n",
    "    \n",
    "    return videos"
   ]
  },
  {
   "cell_type": "code",
   "execution_count": 7,
   "metadata": {},
   "outputs": [],
   "source": [
    "def get_statistics(video_ids):\n",
    "    statistics = []\n",
    "    for vid_id in video_ids:\n",
    "        request = youtube.videos().list(part=\"statistics\",id=vid_id)\n",
    "        response = request.execute()\n",
    "        statistics.append(response)\n",
    "    \n",
    "    return statistics"
   ]
  },
  {
   "cell_type": "code",
   "execution_count": 8,
   "metadata": {},
   "outputs": [],
   "source": [
    "def parse_statistics(video_stats):\n",
    "    stat_dict = {}\n",
    "    stat_dict['views'] = []\n",
    "    stat_dict['likes'] = []\n",
    "    stat_dict['dislikes'] = []\n",
    "    stat_dict['comments'] = []\n",
    "    \n",
    "    for vid_stat in video_stats:\n",
    "        try:\n",
    "            stat_dict['views'].append(int(vid_stat['items'][0]['statistics']['viewCount']))\n",
    "        except:\n",
    "            stat_dict['views'].append(0)\n",
    "        \n",
    "        try:\n",
    "            stat_dict['likes'].append(int(vid_stat['items'][0]['statistics']['likeCount']))\n",
    "        except:\n",
    "            stat_dict['likes'].append(0)\n",
    "            \n",
    "        try:\n",
    "            stat_dict['dislikes'].append(int(vid_stat['items'][0]['statistics']['dislikeCount']))\n",
    "        except:\n",
    "            stat_dict['dislikes'].append(0)\n",
    "            \n",
    "        try:\n",
    "            stat_dict['comments'].append(int(vid_stat['items'][0]['statistics']['commentCount']))\n",
    "        except:\n",
    "            stat_dict['comments'].append(0)\n",
    "    \n",
    "    return stat_dict"
   ]
  },
  {
   "cell_type": "code",
   "execution_count": 9,
   "metadata": {},
   "outputs": [],
   "source": [
    "def determine_target (video_views):\n",
    "    target = []\n",
    "#    for i in range(len(video_views)):\n",
    "#        temp1 = int(video_views[i])\n",
    "#        temp2 = int(channel_subscribers[i])\n",
    "#        if temp1 > temp2:\n",
    "#            target.append(1)\n",
    "#        else:\n",
    "#            target.append(0)\n",
    "    for views in video_views:\n",
    "        if views > 1000000:\n",
    "            target.append(1)\n",
    "        else:\n",
    "            target.append(0)\n",
    "    return target"
   ]
  },
  {
   "cell_type": "code",
   "execution_count": 10,
   "metadata": {},
   "outputs": [],
   "source": [
    "music_vids=simple_search(\"music\",25)\n",
    "sports_vids=simple_search(\"sports\",25)\n",
    "gaming_vids=simple_search(\"gaming\",25)\n",
    "movies_vids=simple_search(\"movies and shows\",25)\n",
    "news_vids=simple_search(\"news\",25)\n",
    "live_vids=simple_search(\"live\",25)\n",
    "fashion_vids=simple_search(\"fashion and beauty\",25)\n",
    "learning_vids=simple_search(\"learning\",25)"
   ]
  },
  {
   "cell_type": "code",
   "execution_count": 11,
   "metadata": {
    "scrolled": true
   },
   "outputs": [
    {
     "name": "stdout",
     "output_type": "stream",
     "text": [
      "       Video_IDs\n",
      "0    zXVNxSM3-Bo\n",
      "1    PuJQhtg1VCM\n",
      "2    xNV38nq1fqc\n",
      "3    W9iUh23Xrsg\n",
      "4    gvU_8LNK00E\n",
      "..           ...\n",
      "195  YS7vsBgWszI\n",
      "196  Hd6QgsXB7Y0\n",
      "197  bNVQkoCfr6g\n",
      "198  KVyW34E1UP4\n",
      "199  raMEQzGVY3w\n",
      "\n",
      "[200 rows x 1 columns]\n"
     ]
    }
   ],
   "source": [
    "ids_df = pd.DataFrame(data=music_vids+sports_vids+gaming_vids+movies_vids+news_vids+live_vids+fashion_vids+learning_vids,columns=[\"Video_IDs\"])\n",
    "print(ids_df)"
   ]
  },
  {
   "cell_type": "code",
   "execution_count": 12,
   "metadata": {},
   "outputs": [
    {
     "name": "stdout",
     "output_type": "stream",
     "text": [
      "[{'kind': 'youtube#videoListResponse', 'etag': 'M4XkCHugNr3TX9h_ieaqLtCZ5PU', 'items': [{'kind': 'youtube#video', 'etag': '46GCJeH4F_BywaagUxmXXWOpOs8', 'id': 'zXVNxSM3-Bo', 'statistics': {'viewCount': '21105', 'likeCount': '439', 'dislikeCount': '14', 'favoriteCount': '0', 'commentCount': '0'}}], 'pageInfo': {'totalResults': 1, 'resultsPerPage': 1}}, {'kind': 'youtube#videoListResponse', 'etag': 'UaIjXgnEJG_FgDpyGYOWy7jr920', 'items': [{'kind': 'youtube#video', 'etag': 'e94l_AxRPoGaGptchWM_Dx-az9E', 'id': 'PuJQhtg1VCM', 'statistics': {'viewCount': '19904254', 'likeCount': '115135', 'dislikeCount': '7579', 'favoriteCount': '0', 'commentCount': '10492'}}], 'pageInfo': {'totalResults': 1, 'resultsPerPage': 1}}, {'kind': 'youtube#videoListResponse', 'etag': '8lcaKwB3dAt0wqOZ2uGEIgRv-Zo', 'items': [{'kind': 'youtube#video', 'etag': 'jxOskYbn7_EfTSFjS6-U7MUBa4g', 'id': 'xNV38nq1fqc', 'statistics': {'viewCount': '20880105', 'likeCount': '95021', 'dislikeCount': '11321', 'favoriteCount': '0', 'commentCount': '2961'}}], 'pageInfo': {'totalResults': 1, 'resultsPerPage': 1}}, {'kind': 'youtube#videoListResponse', 'etag': 'U8Z6iiHBfgZf-vUEnxS4l7Z2tkQ', 'items': [{'kind': 'youtube#video', 'etag': 'lXk3pM-t0tCpiD_rWBSK5RU1hdw', 'id': 'W9iUh23Xrsg', 'statistics': {'viewCount': '31535600', 'likeCount': '304997', 'dislikeCount': '11896', 'favoriteCount': '0', 'commentCount': '10721'}}], 'pageInfo': {'totalResults': 1, 'resultsPerPage': 1}}, {'kind': 'youtube#videoListResponse', 'etag': 'DfUqXmGJcHg1H-TjlIC5cAyJ2l8', 'items': [{'kind': 'youtube#video', 'etag': '5oP3_6NpUc2dDYSUrwhI52nNKGQ', 'id': 'gvU_8LNK00E', 'statistics': {'viewCount': '840875', 'likeCount': '110177', 'dislikeCount': '935', 'favoriteCount': '0', 'commentCount': '26344'}}], 'pageInfo': {'totalResults': 1, 'resultsPerPage': 1}}, {'kind': 'youtube#videoListResponse', 'etag': 'MQIfs-EGgO9tQ2AXJ_sx3z5Dnr0', 'items': [{'kind': 'youtube#video', 'etag': 'kbvlWAmkZkh-HOMULp0aNs28_dM', 'id': 'XXYlFuWEuKI', 'statistics': {'viewCount': '299446905', 'likeCount': '3457416', 'dislikeCount': '109341', 'favoriteCount': '0', 'commentCount': '209837'}}], 'pageInfo': {'totalResults': 1, 'resultsPerPage': 1}}, {'kind': 'youtube#videoListResponse', 'etag': 'KpQgcMqmKX9qjnEGL_V0EEKF2Jc', 'items': [{'kind': 'youtube#video', 'etag': 'P6suMm3ZO5D5cE_fSqG3CbqLNbc', 'id': 'sCr3QCyGQAg', 'statistics': {'viewCount': '61670', 'likeCount': '2737', 'dislikeCount': '48', 'favoriteCount': '0', 'commentCount': '187'}}], 'pageInfo': {'totalResults': 1, 'resultsPerPage': 1}}, {'kind': 'youtube#videoListResponse', 'etag': 'oUGpYQfkb_uuq4n5Ou3B4XObIcc', 'items': [{'kind': 'youtube#video', 'etag': 'P3J3Bvs0NvwBsnjadzrL3VxvM6k', 'id': '43Ab1uUFVEA', 'statistics': {'viewCount': '196871', 'likeCount': '2223', 'dislikeCount': '88', 'favoriteCount': '0', 'commentCount': '83'}}], 'pageInfo': {'totalResults': 1, 'resultsPerPage': 1}}, {'kind': 'youtube#videoListResponse', 'etag': 'C-hspW6daL6bGRK1XKj5QELd8vY', 'items': [{'kind': 'youtube#video', 'etag': 'OuCYGTt1t5obEe6KlWgI_EKvCzE', 'id': 'LIIDh-qI9oI', 'statistics': {'viewCount': '5453919', 'likeCount': '775177', 'dislikeCount': '7156', 'favoriteCount': '0', 'commentCount': '48244'}}], 'pageInfo': {'totalResults': 1, 'resultsPerPage': 1}}, {'kind': 'youtube#videoListResponse', 'etag': 'dEPjBKWn6XyOqOc2qph6EORYeKQ', 'items': [{'kind': 'youtube#video', 'etag': '0nIm7WV09tLsaFkW05lxUzRn-N0', 'id': 'RNv2rrrFO-M', 'statistics': {'viewCount': '102353', 'likeCount': '1808', 'dislikeCount': '47', 'favoriteCount': '0', 'commentCount': '0'}}], 'pageInfo': {'totalResults': 1, 'resultsPerPage': 1}}, {'kind': 'youtube#videoListResponse', 'etag': 'El1Va0k5fL2f965EgYb-u5H7pAs', 'items': [{'kind': 'youtube#video', 'etag': 'JhHlcDVpc-If6IAN_svxgCkgcCY', 'id': 'UwV5Nv2ZDfU', 'statistics': {'viewCount': '16882923', 'likeCount': '460542', 'dislikeCount': '23868', 'favoriteCount': '0'}}], 'pageInfo': {'totalResults': 1, 'resultsPerPage': 1}}, {'kind': 'youtube#videoListResponse', 'etag': 'Y5_Wj_MQJqOCCph5kMv__RO1Hho', 'items': [{'kind': 'youtube#video', 'etag': 'ZV0ENr2_5MGVYPPXhXZYt0CshvY', 'id': 'M06ju3qJqA4', 'statistics': {'viewCount': '77745102', 'likeCount': '2780273', 'dislikeCount': '130324', 'favoriteCount': '0', 'commentCount': '255311'}}], 'pageInfo': {'totalResults': 1, 'resultsPerPage': 1}}, {'kind': 'youtube#videoListResponse', 'etag': 'pPFBpu3M2h5sc5YI6Y_nt30zl1k', 'items': [{'kind': 'youtube#video', 'etag': 'Zjx5ixRF_SiXGdTPg4SSgnsrIBM', 'id': 'bmWvckEQjuE', 'statistics': {'viewCount': '2470', 'likeCount': '58', 'dislikeCount': '1', 'favoriteCount': '0', 'commentCount': '8'}}], 'pageInfo': {'totalResults': 1, 'resultsPerPage': 1}}, {'kind': 'youtube#videoListResponse', 'etag': '67grGfk73-obphN1bsZJ49MZQVU', 'items': [{'kind': 'youtube#video', 'etag': 'HiJc-GEHDgdhaQmRTR1oI622tOo', 'id': 'Wz9a6g4B8h0', 'statistics': {'viewCount': '122464', 'likeCount': '38682', 'dislikeCount': '59', 'favoriteCount': '0', 'commentCount': '8416'}}], 'pageInfo': {'totalResults': 1, 'resultsPerPage': 1}}, {'kind': 'youtube#videoListResponse', 'etag': 'cLQ5h5DQ6ixjA_Q_kPtNwhxeuLw', 'items': [{'kind': 'youtube#video', 'etag': 'pIe_cQzRA4t4w9WKnYtmosqO7KU', 'id': 'mxFstYSbBmc', 'statistics': {'viewCount': '130198845', 'likeCount': '2295830', 'dislikeCount': '66435', 'favoriteCount': '0', 'commentCount': '76147'}}], 'pageInfo': {'totalResults': 1, 'resultsPerPage': 1}}, {'kind': 'youtube#videoListResponse', 'etag': 'xmXE3Jrgc5EOOvAnX0dIN7cD3Xk', 'items': [{'kind': 'youtube#video', 'etag': '0eSKYCrESNI_EcZ5v1lW_vyZ3DE', 'id': '5qap5aO4i9A', 'statistics': {'viewCount': '371593700', 'likeCount': '5277646', 'dislikeCount': '98367', 'favoriteCount': '0', 'commentCount': '0'}}], 'pageInfo': {'totalResults': 1, 'resultsPerPage': 1}}, {'kind': 'youtube#videoListResponse', 'etag': 'WL0XeIlweOtT_DK5Eh6xzrzwa60', 'items': [{'kind': 'youtube#video', 'etag': 'nPgMkt2_frybHp0I8vO6rAsVxS0', 'id': 'RUQl6YcMalg', 'statistics': {'viewCount': '154108825', 'likeCount': '6164545', 'dislikeCount': '170262', 'favoriteCount': '0', 'commentCount': '334906'}}], 'pageInfo': {'totalResults': 1, 'resultsPerPage': 1}}, {'kind': 'youtube#videoListResponse', 'etag': 'Xuk3NTy3UBwIGIU1Ty_xfXsLQDQ', 'items': [{'kind': 'youtube#video', 'etag': 'W_tKhNlma3KM_9qBmFl90XsdKlE', 'id': 'ApXoWvfEYVU', 'statistics': {'viewCount': '1439740031', 'likeCount': '9879341', 'dislikeCount': '347851', 'favoriteCount': '0', 'commentCount': '291871'}}], 'pageInfo': {'totalResults': 1, 'resultsPerPage': 1}}, {'kind': 'youtube#videoListResponse', 'etag': 's4aaqnWr4feeY0orj0emr_WIDmI', 'items': [{'kind': 'youtube#video', 'etag': 'v2wJH5EsapfuGB0ophiDfww3LZw', 'id': 'kEvun0xYQ28', 'statistics': {'viewCount': '76956', 'likeCount': '632', 'dislikeCount': '32', 'favoriteCount': '0', 'commentCount': '0'}}], 'pageInfo': {'totalResults': 1, 'resultsPerPage': 1}}, {'kind': 'youtube#videoListResponse', 'etag': 'glDzB2tPKrjVfxLSWMRtmISRSnE', 'items': [{'kind': 'youtube#video', 'etag': 'cSMWiTmd1wuLBs3bYHSzIe1ELJk', 'id': 'pvuN_WvF1to', 'statistics': {'viewCount': '308979025', 'likeCount': '10227512', 'dislikeCount': '324676', 'favoriteCount': '0', 'commentCount': '513600'}}], 'pageInfo': {'totalResults': 1, 'resultsPerPage': 1}}, {'kind': 'youtube#videoListResponse', 'etag': 'rXEGLjP46QkT556khsF3emGTfiQ', 'items': [{'kind': 'youtube#video', 'etag': 'kK9CNxWJhvxwYH4A5DaMwk2bvuQ', 'id': '--giQqhWGdQ', 'statistics': {'viewCount': '311192', 'likeCount': '24537', 'dislikeCount': '97', 'favoriteCount': '0', 'commentCount': '2650'}}], 'pageInfo': {'totalResults': 1, 'resultsPerPage': 1}}, {'kind': 'youtube#videoListResponse', 'etag': 'FBOzt_T_fwnN6tSFpFQVe9QhMNU', 'items': [{'kind': 'youtube#video', 'etag': '7DJAomqkSGh-09TBOGYyq8AmRyk', 'id': 'UNZqm3dxd2w', 'statistics': {'viewCount': '332483739', 'likeCount': '5883609', 'dislikeCount': '141805', 'favoriteCount': '0', 'commentCount': '184458'}}], 'pageInfo': {'totalResults': 1, 'resultsPerPage': 1}}, {'kind': 'youtube#videoListResponse', 'etag': 'qTiDXMNa8OQXp78j6gANJ4ZyyJs', 'items': [{'kind': 'youtube#video', 'etag': 'cxTZfOCuS3wVnWJyvXrVqactrhc', 'id': 'ALZHF5UqnU4', 'statistics': {'viewCount': '2029117170', 'likeCount': '20237826', 'dislikeCount': '731281', 'favoriteCount': '0', 'commentCount': '946583'}}], 'pageInfo': {'totalResults': 1, 'resultsPerPage': 1}}, {'kind': 'youtube#videoListResponse', 'etag': 'gqH02hPsPyEsitvsWJ_tdzRIDmM', 'items': [{'kind': 'youtube#video', 'etag': 'PdOU0_6HmHcEL00F-cH51M2I47o', 'id': 'aJOTlE1K90k', 'statistics': {'viewCount': '3007344755', 'likeCount': '18611417', 'dislikeCount': '763172', 'favoriteCount': '0', 'commentCount': '651794'}}], 'pageInfo': {'totalResults': 1, 'resultsPerPage': 1}}, {'kind': 'youtube#videoListResponse', 'etag': 'SSI1Lxj3IyzhZ2FsBBE2lzqBmb8', 'items': [{'kind': 'youtube#video', 'etag': 'BG-SMeZWetAipytep3rp12qR1x4', 'id': 'u67PympPBoI', 'statistics': {'viewCount': '1512410', 'likeCount': '22540', 'dislikeCount': '829', 'favoriteCount': '0', 'commentCount': '701'}}], 'pageInfo': {'totalResults': 1, 'resultsPerPage': 1}}, {'kind': 'youtube#videoListResponse', 'etag': 'Jgizjd5_7AEPrHiaKHvVqbLKpMk', 'items': [{'kind': 'youtube#video', 'etag': 'xaPh5mCWRphkP8XLUAhvG6bhGQY', 'id': 'szeXkBYq5HU', 'statistics': {'viewCount': '7396890', 'likeCount': '137207', 'dislikeCount': '916', 'favoriteCount': '0', 'commentCount': '3507'}}], 'pageInfo': {'totalResults': 1, 'resultsPerPage': 1}}, {'kind': 'youtube#videoListResponse', 'etag': 'DQxGPyJ9iDlzT-FCErS0q9AKVtE', 'items': [{'kind': 'youtube#video', 'etag': 'Q512Cn8v4UwjPDTYyip8UZdwbSQ', 'id': '8SZX4wmV1jU', 'statistics': {'viewCount': '390671', 'likeCount': '2428', 'dislikeCount': '160', 'favoriteCount': '0', 'commentCount': '348'}}], 'pageInfo': {'totalResults': 1, 'resultsPerPage': 1}}, {'kind': 'youtube#videoListResponse', 'etag': '7pArrLujTb7ra_VGAjTN_g1RYcQ', 'items': [{'kind': 'youtube#video', 'etag': 'plKKalMCQDXi7qTJ-f7Tq4opqBM', 'id': 'dwV04XuiWq4', 'statistics': {'viewCount': '49218144', 'likeCount': '706484', 'dislikeCount': '21394', 'favoriteCount': '0', 'commentCount': '21398'}}], 'pageInfo': {'totalResults': 1, 'resultsPerPage': 1}}, {'kind': 'youtube#videoListResponse', 'etag': 'vTZYglDMLaX0CZ-IjwcSHP6P39o', 'items': [{'kind': 'youtube#video', 'etag': 'WcJDM9FQKyRBfOgdRSkiH3GOlt4', 'id': 'UL2BY0NR0Eo', 'statistics': {'viewCount': '6966443', 'likeCount': '64208', 'dislikeCount': '2847', 'favoriteCount': '0', 'commentCount': '2458'}}], 'pageInfo': {'totalResults': 1, 'resultsPerPage': 1}}, {'kind': 'youtube#videoListResponse', 'etag': 'veonLFNKl1xJQ2jhB3Qabi-WBk8', 'items': [{'kind': 'youtube#video', 'etag': 'T2tx6L3cOmAuJjXbIanIrV0Mo-w', 'id': 'QjL7D33xpS4', 'statistics': {'viewCount': '3435126', 'likeCount': '127427', 'dislikeCount': '2655', 'favoriteCount': '0', 'commentCount': '3116'}}], 'pageInfo': {'totalResults': 1, 'resultsPerPage': 1}}, {'kind': 'youtube#videoListResponse', 'etag': '5jf_oWthK6uigPqY3vOBD-4-8qM', 'items': [{'kind': 'youtube#video', 'etag': 'wF3rLuhtLjomjupfsAssmbp1yhE', 'id': '9Ffm_X-ppFo', 'statistics': {'viewCount': '8297684', 'likeCount': '84615', 'dislikeCount': '2145', 'favoriteCount': '0', 'commentCount': '1457'}}], 'pageInfo': {'totalResults': 1, 'resultsPerPage': 1}}, {'kind': 'youtube#videoListResponse', 'etag': 'E-bJH5ja6nxIu79gn5t7PP9Ya5Q', 'items': [{'kind': 'youtube#video', 'etag': 'Dz6in43FoGBKbMAuze8g2CNJSKc', 'id': 'wJF8nM9afHI', 'statistics': {'viewCount': '41904', 'likeCount': '515', 'dislikeCount': '22', 'favoriteCount': '0', 'commentCount': '174'}}], 'pageInfo': {'totalResults': 1, 'resultsPerPage': 1}}, {'kind': 'youtube#videoListResponse', 'etag': 'cxX5I8QTlGPAectf11bjQVyHu0U', 'items': [{'kind': 'youtube#video', 'etag': '0f8zlZSbzFIK7YDopfvD46m2XsA', 'id': 'yaGkToO1eHo', 'statistics': {'viewCount': '4307484', 'likeCount': '12531', 'dislikeCount': '1515', 'favoriteCount': '0', 'commentCount': '258'}}], 'pageInfo': {'totalResults': 1, 'resultsPerPage': 1}}, {'kind': 'youtube#videoListResponse', 'etag': 'BbH3U-lJD-e8pCx6ds3ugoYr5r0', 'items': [{'kind': 'youtube#video', 'etag': 'zM7K3vKiVm8gTj2JUbJ3Z_jtsDI', 'id': '_eaK4DIxB5s', 'statistics': {'viewCount': '14454128', 'likeCount': '92861', 'dislikeCount': '14048', 'favoriteCount': '0', 'commentCount': '9972'}}], 'pageInfo': {'totalResults': 1, 'resultsPerPage': 1}}, {'kind': 'youtube#videoListResponse', 'etag': 'dMxg2KgFBDlBBJiVA5PG-6JUL4Y', 'items': [{'kind': 'youtube#video', 'etag': 'e9MR8LqZY56-x9XJXLppDVbvJGo', 'id': 'dW8J7_l8INY', 'statistics': {'viewCount': '59638698', 'likeCount': '700832', 'dislikeCount': '34458', 'favoriteCount': '0', 'commentCount': '10568'}}], 'pageInfo': {'totalResults': 1, 'resultsPerPage': 1}}, {'kind': 'youtube#videoListResponse', 'etag': 'X0a1VxZkfSLxSW_k_-mbP8bWFFY', 'items': [{'kind': 'youtube#video', 'etag': 'vgnK1TIADo_q5Kd1lrBtEjbJsjo', 'id': 'v3m_DlYSJOA', 'statistics': {'viewCount': '14523764', 'likeCount': '116665', 'dislikeCount': '4988', 'favoriteCount': '0', 'commentCount': '3394'}}], 'pageInfo': {'totalResults': 1, 'resultsPerPage': 1}}, {'kind': 'youtube#videoListResponse', 'etag': 'VyvfDB1EF3bbEFw0bp-_c5f7lNE', 'items': [{'kind': 'youtube#video', 'etag': 'lXDl4rXvJyHncYdNIdA1pGdDZQk', 'id': 'FQIDff1G1JQ', 'statistics': {'viewCount': '2035826', 'likeCount': '47223', 'dislikeCount': '672', 'favoriteCount': '0', 'commentCount': '4535'}}], 'pageInfo': {'totalResults': 1, 'resultsPerPage': 1}}, {'kind': 'youtube#videoListResponse', 'etag': '-6hH2MPd9wxaYlyswRIQjUk2lSg', 'items': [{'kind': 'youtube#video', 'etag': 'qdSimPlxI94X1xfL-RHjFQOHE9M', 'id': 'Ib-5QOlDARk', 'statistics': {'viewCount': '1147064', 'likeCount': '28050', 'dislikeCount': '398', 'favoriteCount': '0', 'commentCount': '4620'}}], 'pageInfo': {'totalResults': 1, 'resultsPerPage': 1}}, {'kind': 'youtube#videoListResponse', 'etag': '_EsqoYVQZU978cocnSHX6tCAFKc', 'items': [{'kind': 'youtube#video', 'etag': 'ByrX7hPlnrdo2ZAExZEY9SDzq7g', 'id': '6Binwq50SmA', 'statistics': {'viewCount': '1160027', 'likeCount': '29133', 'dislikeCount': '262', 'favoriteCount': '0', 'commentCount': '4167'}}], 'pageInfo': {'totalResults': 1, 'resultsPerPage': 1}}, {'kind': 'youtube#videoListResponse', 'etag': 'zh70ZmXqJjF_1AKW4vqHnsATNGU', 'items': [{'kind': 'youtube#video', 'etag': 'VbEzlq-j9ZwoyI0HRL72ZQeN4Ks', 'id': 'lOE_qHJ61Fk', 'statistics': {'viewCount': '20129', 'likeCount': '325', 'dislikeCount': '15', 'favoriteCount': '0', 'commentCount': '192'}}], 'pageInfo': {'totalResults': 1, 'resultsPerPage': 1}}, {'kind': 'youtube#videoListResponse', 'etag': 'ZEXJpriH5j7tHYbbDOkjWOwRXJM', 'items': [{'kind': 'youtube#video', 'etag': 'r4XROSChZ3G727tQjdgyywJ5X0g', 'id': 'luR70V5gdS0', 'statistics': {'viewCount': '28973797', 'likeCount': '691420', 'dislikeCount': '14236', 'favoriteCount': '0', 'commentCount': '28958'}}], 'pageInfo': {'totalResults': 1, 'resultsPerPage': 1}}, {'kind': 'youtube#videoListResponse', 'etag': 'KZk_AHWRmAQG1wX17U9sTXQvOi0', 'items': [{'kind': 'youtube#video', 'etag': 'WMEBkwBIKlx9UIXCWQBQYqW46Co', 'id': 'Isyr2NNKlp0', 'statistics': {'viewCount': '96596', 'likeCount': '549', 'dislikeCount': '69', 'favoriteCount': '0', 'commentCount': '62'}}], 'pageInfo': {'totalResults': 1, 'resultsPerPage': 1}}, {'kind': 'youtube#videoListResponse', 'etag': '5kr_IY3bebvCC2SwpruniMMFq4c', 'items': [{'kind': 'youtube#video', 'etag': 'BPskbDOU5a2Aho_l5aVkhLDhHjA', 'id': 'HAKieZUwx4E', 'statistics': {'viewCount': '509643', 'likeCount': '8601', 'dislikeCount': '250', 'favoriteCount': '0', 'commentCount': '1815'}}], 'pageInfo': {'totalResults': 1, 'resultsPerPage': 1}}, {'kind': 'youtube#videoListResponse', 'etag': '3mMl5oxT-ckpMlGt_e_NHBEoM8M', 'items': [{'kind': 'youtube#video', 'etag': 'mTsD9AEYq9G_wGXykADGt-3GFlk', 'id': 'SigvDl14tAU', 'statistics': {'viewCount': '397804', 'likeCount': '8147', 'dislikeCount': '189', 'favoriteCount': '0', 'commentCount': '2894'}}], 'pageInfo': {'totalResults': 1, 'resultsPerPage': 1}}, {'kind': 'youtube#videoListResponse', 'etag': 'q0LPjOA8z4DGBMje6hZAq-fcjGc', 'items': [{'kind': 'youtube#video', 'etag': '96XCgL9wK8oXfnprYnvaLqToO2I', 'id': 'jQO-OrjpybQ', 'statistics': {'viewCount': '1527077', 'likeCount': '27261', 'dislikeCount': '699', 'favoriteCount': '0', 'commentCount': '1078'}}], 'pageInfo': {'totalResults': 1, 'resultsPerPage': 1}}, {'kind': 'youtube#videoListResponse', 'etag': 'Yptk5krYlu0bDmmSdrkGrBcvPIs', 'items': [{'kind': 'youtube#video', 'etag': 'HsmnxlJ_c-gJdOwjknBT9c4XKM8', 'id': '_6akkGVr2zs', 'statistics': {'viewCount': '6928290', 'likeCount': '29798', 'dislikeCount': '6555', 'favoriteCount': '0', 'commentCount': '984'}}], 'pageInfo': {'totalResults': 1, 'resultsPerPage': 1}}, {'kind': 'youtube#videoListResponse', 'etag': 'ML1rToDaJOApwWSQSbnSYCcH5mo', 'items': [{'kind': 'youtube#video', 'etag': 'pQUN9eUPmTr6duqsFkV1UufD5Fc', 'id': 'fcWxqj24KC8', 'statistics': {'viewCount': '195223', 'likeCount': '1760', 'dislikeCount': '43', 'favoriteCount': '0', 'commentCount': '230'}}], 'pageInfo': {'totalResults': 1, 'resultsPerPage': 1}}, {'kind': 'youtube#videoListResponse', 'etag': 'wtXs6dASMDmSkAN-BKt0Urbm2IU', 'items': [{'kind': 'youtube#video', 'etag': 'XsZRzLonN528wlAP58XfG1ro20g', 'id': 'k9NpvVFnYaQ', 'statistics': {'viewCount': '855065', 'likeCount': '7362', 'dislikeCount': '226', 'favoriteCount': '0', 'commentCount': '1128'}}], 'pageInfo': {'totalResults': 1, 'resultsPerPage': 1}}, {'kind': 'youtube#videoListResponse', 'etag': 'gRejjiCnFVYVmtnmFFu5r4gaTAo', 'items': [{'kind': 'youtube#video', 'etag': 'PjpZhNsMfAgQ91dvX_1d6QKwtqU', 'id': 'R4w7Sj4FHh0', 'statistics': {'viewCount': '225831', 'likeCount': '3840', 'dislikeCount': '85', 'favoriteCount': '0', 'commentCount': '1291'}}], 'pageInfo': {'totalResults': 1, 'resultsPerPage': 1}}, {'kind': 'youtube#videoListResponse', 'etag': 'B8foCRViNVAWdeAUt5g90N3L_PM', 'items': [{'kind': 'youtube#video', 'etag': 'FmJoKBfYedhAGsRJO9J2sXnPa_s', 'id': 'vkHzPH_Lu2Y', 'statistics': {'viewCount': '1506010', 'likeCount': '13118', 'dislikeCount': '531', 'favoriteCount': '0', 'commentCount': '474'}}], 'pageInfo': {'totalResults': 1, 'resultsPerPage': 1}}, {'kind': 'youtube#videoListResponse', 'etag': '1u302GllX9qcmLRBRZqTgNIRUwo', 'items': [{'kind': 'youtube#video', 'etag': '7pfyDjsNARVacqualmtX1sXgxVw', 'id': 'wnWbb3_U9Gc', 'statistics': {'viewCount': '8730079', 'likeCount': '513899', 'dislikeCount': '4197', 'favoriteCount': '0', 'commentCount': '21955'}}], 'pageInfo': {'totalResults': 1, 'resultsPerPage': 1}}, {'kind': 'youtube#videoListResponse', 'etag': 'LU49ojQ6RvPiKHKNVn-nOGkJnIQ', 'items': [{'kind': 'youtube#video', 'etag': 'kyrqklRJJQZPsNgYQG-cNcmela8', 'id': 'Rw347W3Wep4', 'statistics': {'viewCount': '255522', 'likeCount': '18650', 'dislikeCount': '327', 'favoriteCount': '0', 'commentCount': '4943'}}], 'pageInfo': {'totalResults': 1, 'resultsPerPage': 1}}, {'kind': 'youtube#videoListResponse', 'etag': 'KVS9Lh0pm91a52IhReVI_u5FZLI', 'items': [{'kind': 'youtube#video', 'etag': '9yhsx5scX3UBnQR6IKKmtfbW4XU', 'id': '1LTV2bQoxC8', 'statistics': {'viewCount': '1702877', 'likeCount': '17811', 'dislikeCount': '737', 'favoriteCount': '0', 'commentCount': '603'}}], 'pageInfo': {'totalResults': 1, 'resultsPerPage': 1}}, {'kind': 'youtube#videoListResponse', 'etag': '3corm6SzFyn54yhUyIWGWkAbb-Y', 'items': [{'kind': 'youtube#video', 'etag': 'zJpSak4XRUSPKnOqnIGBIBObYWE', 'id': 'Fh1a2K9ZgNA', 'statistics': {'viewCount': '3068799', 'likeCount': '154028', 'dislikeCount': '2751', 'favoriteCount': '0', 'commentCount': '19220'}}], 'pageInfo': {'totalResults': 1, 'resultsPerPage': 1}}, {'kind': 'youtube#videoListResponse', 'etag': 'wNITK4mvnE7U2ndMbBEezJ8oC6I', 'items': [{'kind': 'youtube#video', 'etag': 'w0sm_qbTUAeTQ2_KtbV7-IsoVMQ', 'id': 'LaQj636PJh0', 'statistics': {'viewCount': '29902903', 'likeCount': '448499', 'dislikeCount': '11326', 'favoriteCount': '0', 'commentCount': '21860'}}], 'pageInfo': {'totalResults': 1, 'resultsPerPage': 1}}, {'kind': 'youtube#videoListResponse', 'etag': 'bbeAN2KA5EIbPvoE0uO0CVdCH9s', 'items': [{'kind': 'youtube#video', 'etag': 'EuJpynqDZkQNDelC1c8c0U3SQDI', 'id': 'ElCTVmBQA8Q', 'statistics': {'viewCount': '1289449', 'likeCount': '57344', 'dislikeCount': '1649', 'favoriteCount': '0', 'commentCount': '10176'}}], 'pageInfo': {'totalResults': 1, 'resultsPerPage': 1}}, {'kind': 'youtube#videoListResponse', 'etag': 'CmzGk0wXuOT7pV8w1LbtuhB0iBQ', 'items': [{'kind': 'youtube#video', 'etag': 'tsU_Fo-CpOHuBP1uLdZw9j5yFLA', 'id': 'WBKFPONE8pI', 'statistics': {'viewCount': '2103982', 'likeCount': '80803', 'dislikeCount': '1810', 'favoriteCount': '0', 'commentCount': '13009'}}], 'pageInfo': {'totalResults': 1, 'resultsPerPage': 1}}, {'kind': 'youtube#videoListResponse', 'etag': 'XGWAL9g1Csfa_1rLPCGvQg2H5ns', 'items': [{'kind': 'youtube#video', 'etag': '-mUrOm0teJFibRmkXEHVjbhr3_c', 'id': 'XQnuqK7Xm3k', 'statistics': {'viewCount': '3410125', 'likeCount': '139793', 'dislikeCount': '4538', 'favoriteCount': '0', 'commentCount': '14348'}}], 'pageInfo': {'totalResults': 1, 'resultsPerPage': 1}}, {'kind': 'youtube#videoListResponse', 'etag': 'cm7keHug4lV_HEMLpLOa6aNTgak', 'items': [{'kind': 'youtube#video', 'etag': 'KoCkJ-oxQ0U8Fwk9vOlW395zonQ', 'id': 'QUzEQxUWdr4', 'statistics': {'viewCount': '42754', 'likeCount': '1558', 'dislikeCount': '23', 'favoriteCount': '0', 'commentCount': '305'}}], 'pageInfo': {'totalResults': 1, 'resultsPerPage': 1}}, {'kind': 'youtube#videoListResponse', 'etag': 'G_s_xOEOlmvvkToDeMw-62KPU4I', 'items': [{'kind': 'youtube#video', 'etag': '3oI3LNFkEyjOXAksp_46y9w8PCg', 'id': 'Xqamnbm-ZLA', 'statistics': {'viewCount': '21038094', 'likeCount': '791811', 'dislikeCount': '11889', 'favoriteCount': '0', 'commentCount': '54552'}}], 'pageInfo': {'totalResults': 1, 'resultsPerPage': 1}}, {'kind': 'youtube#videoListResponse', 'etag': '-1fmL_D-J_FmYWXqz38aucMNGtM', 'items': [{'kind': 'youtube#video', 'etag': 'OJkJ6HXhtBt4j-6xgeWKvJZwEJM', 'id': 'ABTdTTnnEU8', 'statistics': {'viewCount': '27090804', 'likeCount': '710024', 'dislikeCount': '16789', 'favoriteCount': '0', 'commentCount': '59183'}}], 'pageInfo': {'totalResults': 1, 'resultsPerPage': 1}}, {'kind': 'youtube#videoListResponse', 'etag': 'QsK127HC9ZoQyNCfWbMEdS-Ki8s', 'items': [{'kind': 'youtube#video', 'etag': '5_aKmUyGQLTYf-7JC1cfVITyyPc', 'id': 'QV6qeIi_Uoc', 'statistics': {'viewCount': '870240', 'likeCount': '26517', 'dislikeCount': '532', 'favoriteCount': '0', 'commentCount': '2392'}}], 'pageInfo': {'totalResults': 1, 'resultsPerPage': 1}}, {'kind': 'youtube#videoListResponse', 'etag': 'C8vLVDMACAWrdsqGD6M9ZguGcBE', 'items': [{'kind': 'youtube#video', 'etag': '-HDrlJo5ozIQHS-KQjBfwEJ71Y8', 'id': 'XUbAHtYz_Fg', 'statistics': {'viewCount': '2319117', 'likeCount': '102810', 'dislikeCount': '15604', 'favoriteCount': '0', 'commentCount': '16850'}}], 'pageInfo': {'totalResults': 1, 'resultsPerPage': 1}}, {'kind': 'youtube#videoListResponse', 'etag': 'KhUnCKAMRDgibHzM_b6r1lTenbc', 'items': [{'kind': 'youtube#video', 'etag': 'i1cauEy75eWUmmD6aUuH5GoqsAY', 'id': '8c8qCtXmF7A', 'statistics': {'viewCount': '418415', 'likeCount': '15054', 'dislikeCount': '332', 'favoriteCount': '0', 'commentCount': '4178'}}], 'pageInfo': {'totalResults': 1, 'resultsPerPage': 1}}, {'kind': 'youtube#videoListResponse', 'etag': 'OuBMAz20VH6Vwfe_sBrvS9pSWjg', 'items': [{'kind': 'youtube#video', 'etag': 'QL-g0sY-N5FNOayCqappHB6Uk-c', 'id': 'QZq1TyQGTRA', 'statistics': {'viewCount': '26699024', 'likeCount': '294779', 'dislikeCount': '35698', 'favoriteCount': '0', 'commentCount': '8893'}}], 'pageInfo': {'totalResults': 1, 'resultsPerPage': 1}}, {'kind': 'youtube#videoListResponse', 'etag': 'uLK3XvrsIlh8cjpy1qdKMa5M06Q', 'items': [{'kind': 'youtube#video', 'etag': 'WFEhJz6in5xq_Xi2djlBgh3k50I', 'id': 'FN4sP-QWlX4', 'statistics': {'viewCount': '2829872', 'likeCount': '61468', 'dislikeCount': '1598', 'favoriteCount': '0', 'commentCount': '4191'}}], 'pageInfo': {'totalResults': 1, 'resultsPerPage': 1}}, {'kind': 'youtube#videoListResponse', 'etag': 'ZruWQr-WespO3qwpwdZHZRAykNc', 'items': [{'kind': 'youtube#video', 'etag': 'gPQX6IVFsod_9zxY6RnEAvHuZz0', 'id': 'ZhTlGAkD-Xo', 'statistics': {'viewCount': '960669', 'likeCount': '24148', 'dislikeCount': '585', 'favoriteCount': '0', 'commentCount': '12607'}}], 'pageInfo': {'totalResults': 1, 'resultsPerPage': 1}}, {'kind': 'youtube#videoListResponse', 'etag': 'jEuJCYGRt_wpfUrVE9Kk7w2AFj0', 'items': [{'kind': 'youtube#video', 'etag': 'xbstKl7hQz4K-sdawHbCGKVNDKc', 'id': 'sLWXvNbJMpw', 'statistics': {'viewCount': '107104', 'likeCount': '6433', 'dislikeCount': '113', 'favoriteCount': '0', 'commentCount': '620'}}], 'pageInfo': {'totalResults': 1, 'resultsPerPage': 1}}, {'kind': 'youtube#videoListResponse', 'etag': 'u5cIhm1YruHwPVK3AbDQX9eB4GU', 'items': [{'kind': 'youtube#video', 'etag': 'AWFxGJf-RpoDm8qEJkJdy5Cq9bk', 'id': 'wW8FnNghyvI', 'statistics': {'viewCount': '14499234', 'likeCount': '660753', 'dislikeCount': '8274', 'favoriteCount': '0', 'commentCount': '35944'}}], 'pageInfo': {'totalResults': 1, 'resultsPerPage': 1}}, {'kind': 'youtube#videoListResponse', 'etag': 'QPCgPJZxDlwIsFFa85C2rSbouvI', 'items': [{'kind': 'youtube#video', 'etag': 'HHY8IvXgiKJoE3PckXm5PImXAZ4', 'id': 'xN8ENrfE-TY', 'statistics': {'viewCount': '41943942', 'likeCount': '1432491', 'dislikeCount': '21741', 'favoriteCount': '0', 'commentCount': '79632'}}], 'pageInfo': {'totalResults': 1, 'resultsPerPage': 1}}, {'kind': 'youtube#videoListResponse', 'etag': 'oU5mAZctugeH7-Qjgwt0H7nsToU', 'items': [{'kind': 'youtube#video', 'etag': 'yOwu-p9aj2q5abVL28RRLYXNtIo', 'id': 'pdjr9pjTXBw', 'statistics': {'viewCount': '985660', 'likeCount': '27592', 'dislikeCount': '408', 'favoriteCount': '0', 'commentCount': '6434'}}], 'pageInfo': {'totalResults': 1, 'resultsPerPage': 1}}, {'kind': 'youtube#videoListResponse', 'etag': 'E7bNZaJgZ962wMIgtbr1IboMSh4', 'items': [{'kind': 'youtube#video', 'etag': 'dBt9PK5ZbFXahDiNErcFNKvzGm0', 'id': 'TGffhVBoT5w', 'statistics': {'viewCount': '2503306', 'likeCount': '258259', 'dislikeCount': '6084', 'favoriteCount': '0', 'commentCount': '12879'}}], 'pageInfo': {'totalResults': 1, 'resultsPerPage': 1}}, {'kind': 'youtube#videoListResponse', 'etag': 'F8Gu2ExjZt2jjBiCdsk6v86Dt08', 'items': [{'kind': 'youtube#video', 'etag': 'Z-s2YxU8v0WE6NmSD6z_ZS0AA8Q', 'id': 'ZxiBe2hM54A', 'statistics': {'viewCount': '1034359', 'likeCount': '143507', 'dislikeCount': '2935', 'favoriteCount': '0', 'commentCount': '6176'}}], 'pageInfo': {'totalResults': 1, 'resultsPerPage': 1}}, {'kind': 'youtube#videoListResponse', 'etag': 'UPBpBuAIhLCAX88v9yAYRT3q3i8', 'items': [{'kind': 'youtube#video', 'etag': 'R4_TTTVPgc6DAQ9G8y_Sa7fTWoA', 'id': 'Wc9fZLaWiL8', 'statistics': {'viewCount': '154314', 'likeCount': '14691', 'dislikeCount': '763', 'favoriteCount': '0', 'commentCount': '4397'}}], 'pageInfo': {'totalResults': 1, 'resultsPerPage': 1}}, {'kind': 'youtube#videoListResponse', 'etag': 'G892Tal2BpzWZbj375HpXvylTpA', 'items': [{'kind': 'youtube#video', 'etag': '6Qa8oXtxXWFCnTaDZd40AFGe6kc', 'id': 'WF459rgO9H0', 'statistics': {'viewCount': '182944', 'likeCount': '19270', 'dislikeCount': '295', 'favoriteCount': '0', 'commentCount': '1399'}}], 'pageInfo': {'totalResults': 1, 'resultsPerPage': 1}}, {'kind': 'youtube#videoListResponse', 'etag': 'uXwNvyc9oZLmCaOJLTKP7pwR7t4', 'items': [{'kind': 'youtube#video', 'etag': 'GG16MjbzPl2aK63UIQ8dAFNVwlw', 'id': 'I2E7oDAz7jI', 'statistics': {'viewCount': '23001457', 'likeCount': '48061', 'dislikeCount': '15370', 'favoriteCount': '0'}}], 'pageInfo': {'totalResults': 1, 'resultsPerPage': 1}}, {'kind': 'youtube#videoListResponse', 'etag': 'xicqDzFzLv5pPymUBMYrZPC5jSY', 'items': [{'kind': 'youtube#video', 'etag': 'PsBEfUpF_r3ARJEX0Zq0RtCLIYI', 'id': 'cP34RLmwbXI', 'statistics': {'viewCount': '1431707', 'likeCount': '16859', 'dislikeCount': '939', 'favoriteCount': '0', 'commentCount': '840'}}], 'pageInfo': {'totalResults': 1, 'resultsPerPage': 1}}, {'kind': 'youtube#videoListResponse', 'etag': 'ZZIkKPb2soU1giEwGx_40Cy2T6w', 'items': [{'kind': 'youtube#video', 'etag': '_GQoaJkSnna83Ikh0NzDHMwPGu4', 'id': '1_2HurMbwLA', 'statistics': {'viewCount': '120291502', 'likeCount': '250333', 'dislikeCount': '78459', 'favoriteCount': '0', 'commentCount': '2'}}], 'pageInfo': {'totalResults': 1, 'resultsPerPage': 1}}, {'kind': 'youtube#videoListResponse', 'etag': 'qzQ-5KMUVaeuxkbksgfve31oTfw', 'items': [{'kind': 'youtube#video', 'etag': 'flxNShCX_29pk5sShest_s2CGdM', 'id': '2hvEoO_2XYk', 'statistics': {'viewCount': '438487', 'likeCount': '3470', 'dislikeCount': '962', 'favoriteCount': '0', 'commentCount': '459'}}], 'pageInfo': {'totalResults': 1, 'resultsPerPage': 1}}, {'kind': 'youtube#videoListResponse', 'etag': 'obgBx7MIWCcROeaS4FRn3-ZkH_g', 'items': [{'kind': 'youtube#video', 'etag': 'd8drpR5sDlfYmHMcdKuMwPbt_r0', 'id': '8k6gJaX-H18', 'statistics': {'viewCount': '146373', 'likeCount': '4285', 'dislikeCount': '113', 'favoriteCount': '0'}}], 'pageInfo': {'totalResults': 1, 'resultsPerPage': 1}}, {'kind': 'youtube#videoListResponse', 'etag': 'QDe8VtVW8xkb6o6uaClkZ7hZnSo', 'items': [{'kind': 'youtube#video', 'etag': 'pGhFU6MUtGWpZ9kLB0Dfmn0I_zI', 'id': 'DEAfIGHYE5g', 'statistics': {'viewCount': '212976', 'likeCount': '1002', 'dislikeCount': '130', 'favoriteCount': '0', 'commentCount': '109'}}], 'pageInfo': {'totalResults': 1, 'resultsPerPage': 1}}, {'kind': 'youtube#videoListResponse', 'etag': '1GEaRgeUZbJd0hJ5Dnj3RAsLZVM', 'items': [{'kind': 'youtube#video', 'etag': 'X4c2uSdriHmaw79m7l0cyVnpQ6o', 'id': 'KI-_IghlER8', 'statistics': {'viewCount': '6881782', 'likeCount': '153603', 'dislikeCount': '9152', 'favoriteCount': '0', 'commentCount': '5952'}}], 'pageInfo': {'totalResults': 1, 'resultsPerPage': 1}}, {'kind': 'youtube#videoListResponse', 'etag': 'N_emEv1RuDbhxv1WCuEAtn2YTk0', 'items': [{'kind': 'youtube#video', 'etag': 'Td7JZ00udFueIOIY93p38Gy-6cc', 'id': 'TpGGegHx-a8', 'statistics': {'viewCount': '91434', 'likeCount': '2440', 'dislikeCount': '58', 'favoriteCount': '0', 'commentCount': '241'}}], 'pageInfo': {'totalResults': 1, 'resultsPerPage': 1}}, {'kind': 'youtube#videoListResponse', 'etag': 'xLE7S6oXFZhsfOq4oqoHf96wBI8', 'items': [{'kind': 'youtube#video', 'etag': '5gYvJ6hEgU19QC2DGXIcjCoHyyE', 'id': 'JSzBsi-BiYo', 'statistics': {'viewCount': '195114', 'likeCount': '1549', 'dislikeCount': '216', 'favoriteCount': '0', 'commentCount': '118'}}], 'pageInfo': {'totalResults': 1, 'resultsPerPage': 1}}, {'kind': 'youtube#videoListResponse', 'etag': '-kGYszpT1V1bYMFQFiEyAobyNHY', 'items': [{'kind': 'youtube#video', 'etag': 'a_rIz7AS8IFwGRhbDo2_gvEof-I', 'id': '7uy-_iIzG8g', 'statistics': {'viewCount': '374251', 'likeCount': '2318', 'dislikeCount': '116', 'favoriteCount': '0', 'commentCount': '533'}}], 'pageInfo': {'totalResults': 1, 'resultsPerPage': 1}}, {'kind': 'youtube#videoListResponse', 'etag': 'qs6kbLp4saXLmmghZsE9atM2YtA', 'items': [{'kind': 'youtube#video', 'etag': 'UYy9a5sDsR9wMt52DKbcNEJ1VJU', 'id': 'j87paFaAcdQ', 'statistics': {'viewCount': '25490', 'likeCount': '704', 'dislikeCount': '35', 'favoriteCount': '0', 'commentCount': '132'}}], 'pageInfo': {'totalResults': 1, 'resultsPerPage': 1}}, {'kind': 'youtube#videoListResponse', 'etag': 'bcv0Mb6e8GEYZagdRj0-2Y31BqE', 'items': [{'kind': 'youtube#video', 'etag': 'dwFZh-Qt51_eXAaUl5IWfAd8Jfo', 'id': 'CAKFb6liXmc', 'statistics': {'viewCount': '17436899', 'likeCount': '64844', 'dislikeCount': '6899', 'favoriteCount': '0', 'commentCount': '4530'}}], 'pageInfo': {'totalResults': 1, 'resultsPerPage': 1}}, {'kind': 'youtube#videoListResponse', 'etag': 'CRSfFDlGrpngsLB5M7gWy2nYXgc', 'items': [{'kind': 'youtube#video', 'etag': 'XyXuC_Lg6k_Fv2IrVVhnewyuByM', 'id': 'OSzkcVvRp64', 'statistics': {'viewCount': '225389', 'likeCount': '2482', 'dislikeCount': '87', 'favoriteCount': '0', 'commentCount': '211'}}], 'pageInfo': {'totalResults': 1, 'resultsPerPage': 1}}, {'kind': 'youtube#videoListResponse', 'etag': 'P08UGmxLWMqpmZyNSYWR2sY8af8', 'items': [{'kind': 'youtube#video', 'etag': '5KWu8qIsvwOPZaHNBsVhL8dTdvA', 'id': '0VBFaVQ0bks', 'statistics': {'viewCount': '164324', 'likeCount': '2209', 'dislikeCount': '45', 'favoriteCount': '0', 'commentCount': '174'}}], 'pageInfo': {'totalResults': 1, 'resultsPerPage': 1}}, {'kind': 'youtube#videoListResponse', 'etag': 'ivI_FUU-Ycs-K4MtU3RWFMuATtQ', 'items': [{'kind': 'youtube#video', 'etag': 'Y0FKlJqLsco1VgMSgIT4ihSYH6I', 'id': 'rnt3DARzGrc', 'statistics': {'viewCount': '61942', 'likeCount': '799', 'dislikeCount': '97', 'favoriteCount': '0', 'commentCount': '84'}}], 'pageInfo': {'totalResults': 1, 'resultsPerPage': 1}}, {'kind': 'youtube#videoListResponse', 'etag': '5GrIKKaxpZZbcJRb26WG1Q9MFxk', 'items': [{'kind': 'youtube#video', 'etag': 'qTSy3AzpGI4s3n6g4KFvb9f6_EE', 'id': 'IBSPn7MSkl0', 'statistics': {'viewCount': '16268', 'likeCount': '190', 'dislikeCount': '34', 'favoriteCount': '0', 'commentCount': '21'}}], 'pageInfo': {'totalResults': 1, 'resultsPerPage': 1}}, {'kind': 'youtube#videoListResponse', 'etag': 'rRu5QQ6KwKCutEa1nXQ30z97YUQ', 'items': [{'kind': 'youtube#video', 'etag': 'apWxQHm1YrwoQY1099NMrEORX5I', 'id': 'hO_1bXs3miA', 'statistics': {'viewCount': '10192995', 'likeCount': '190609', 'dislikeCount': '3726', 'favoriteCount': '0', 'commentCount': '7918'}}], 'pageInfo': {'totalResults': 1, 'resultsPerPage': 1}}, {'kind': 'youtube#videoListResponse', 'etag': 'bTtGUHTstfwU2Z_YnJKwMnjRIlw', 'items': [{'kind': 'youtube#video', 'etag': '6i8KEPr4nTgiivVq5PakKJinq-I', 'id': 'PxYRpNxpDCg', 'statistics': {'viewCount': '3750', 'favoriteCount': '0', 'commentCount': '48'}}], 'pageInfo': {'totalResults': 1, 'resultsPerPage': 1}}, {'kind': 'youtube#videoListResponse', 'etag': 'De09XTOv8JfKJLBfSp0DIhhfqDE', 'items': [{'kind': 'youtube#video', 'etag': 'Vj16-DWAh1VqCMy2OeBH1D0rwUA', 'id': 'UpJ77PVqoes', 'statistics': {'viewCount': '71232', 'likeCount': '1222', 'dislikeCount': '44', 'favoriteCount': '0', 'commentCount': '73'}}], 'pageInfo': {'totalResults': 1, 'resultsPerPage': 1}}, {'kind': 'youtube#videoListResponse', 'etag': 'wbGLKYP1iWpZ5yR_eY5Y5HsU7yk', 'items': [{'kind': 'youtube#video', 'etag': 'LJFGuJNIZMlWYurMx9Ghnjp8JRo', 'id': 'khRrq3Van-0', 'statistics': {'viewCount': '175602', 'likeCount': '3061', 'dislikeCount': '109', 'favoriteCount': '0', 'commentCount': '586'}}], 'pageInfo': {'totalResults': 1, 'resultsPerPage': 1}}, {'kind': 'youtube#videoListResponse', 'etag': '6u3bwveK7NCfiQg63oeMUdodTeo', 'items': [{'kind': 'youtube#video', 'etag': 'SJedjEw8IWfd3SnEC1zwcTgfjpQ', 'id': 'DWOxJeVknpk', 'statistics': {'viewCount': '169335', 'likeCount': '7869', 'dislikeCount': '345', 'favoriteCount': '0', 'commentCount': '3988'}}], 'pageInfo': {'totalResults': 1, 'resultsPerPage': 1}}, {'kind': 'youtube#videoListResponse', 'etag': 'u4j3R1AYTkqw_iwRi8JaORu0Waw', 'items': [{'kind': 'youtube#video', 'etag': 'gFY3CQLb4mdunTA1F0_TBxC5hf8', 'id': 'xzigaDYfFQ0', 'statistics': {'viewCount': '260086', 'likeCount': '5864', 'dislikeCount': '181', 'favoriteCount': '0', 'commentCount': '810'}}], 'pageInfo': {'totalResults': 1, 'resultsPerPage': 1}}, {'kind': 'youtube#videoListResponse', 'etag': '9bOBK0riaQA0mU18i5HQDSxslUw', 'items': [{'kind': 'youtube#video', 'etag': 'IM-sxEaplE5Nifo_bRiXItbhCzs', 'id': '489WdGY1ni4', 'statistics': {'viewCount': '102589', 'likeCount': '2973', 'dislikeCount': '637', 'favoriteCount': '0', 'commentCount': '795'}}], 'pageInfo': {'totalResults': 1, 'resultsPerPage': 1}}, {'kind': 'youtube#videoListResponse', 'etag': 'aE19Kz30qla9YTuzM0LpXcPO0O4', 'items': [{'kind': 'youtube#video', 'etag': 'GyqjaVoSvmA_c9KKCTMdGZuOfs4', 'id': 'yc2nR4xrSL0', 'statistics': {'viewCount': '97874', 'likeCount': '1176', 'dislikeCount': '28', 'favoriteCount': '0', 'commentCount': '219'}}], 'pageInfo': {'totalResults': 1, 'resultsPerPage': 1}}, {'kind': 'youtube#videoListResponse', 'etag': 'j2DAbVX9SbircxaPNtvur-ki4As', 'items': [{'kind': 'youtube#video', 'etag': 'kSScLw4_o4BbXWXDS4RcwJO1OH0', 'id': 'vwtBqsfnCVw', 'statistics': {'viewCount': '218531', 'likeCount': '6153', 'dislikeCount': '275', 'favoriteCount': '0', 'commentCount': '1541'}}], 'pageInfo': {'totalResults': 1, 'resultsPerPage': 1}}, {'kind': 'youtube#videoListResponse', 'etag': 'hDxo2DcJtAvmuDibPtT_u1zz9EI', 'items': [{'kind': 'youtube#video', 'etag': 'Dg8m1E7xWAKNYTxU1ZuhFQYUGVE', 'id': 'E-qJMJbkbWI', 'statistics': {'viewCount': '163240', 'likeCount': '1190', 'dislikeCount': '184', 'favoriteCount': '0', 'commentCount': '0'}}], 'pageInfo': {'totalResults': 1, 'resultsPerPage': 1}}, {'kind': 'youtube#videoListResponse', 'etag': '8mTyeyTeFs1X4IWICd5mS3k_OwE', 'items': [{'kind': 'youtube#video', 'etag': '-E2_PkNKKIAlMIdkvk5GAfIDtyM', 'id': 'j-Cp9b2fT80', 'statistics': {'viewCount': '347661', 'likeCount': '2280', 'dislikeCount': '449', 'favoriteCount': '0', 'commentCount': '1128'}}], 'pageInfo': {'totalResults': 1, 'resultsPerPage': 1}}, {'kind': 'youtube#videoListResponse', 'etag': 'fLbokMlUe8UpGGMJLIkdRRKTpjo', 'items': [{'kind': 'youtube#video', 'etag': 'YirD0CjKMPjbICDv6MlmnxyK2iw', 'id': 'PY4C_x_TjIs', 'statistics': {'viewCount': '30164', 'likeCount': '462', 'dislikeCount': '244', 'favoriteCount': '0', 'commentCount': '101'}}], 'pageInfo': {'totalResults': 1, 'resultsPerPage': 1}}, {'kind': 'youtube#videoListResponse', 'etag': '8F_neh7idLHc_lx-uo_947JBlxM', 'items': [{'kind': 'youtube#video', 'etag': 'Qc-XsOz9xhKkCApNrluf_igYLC4', 'id': 'ID3GconDMX8', 'statistics': {'viewCount': '96871', 'likeCount': '2849', 'dislikeCount': '199', 'favoriteCount': '0', 'commentCount': '116'}}], 'pageInfo': {'totalResults': 1, 'resultsPerPage': 1}}, {'kind': 'youtube#videoListResponse', 'etag': 'rxRClx7qd70LpklaWauRSGcx0dc', 'items': [{'kind': 'youtube#video', 'etag': 'z_hOcPauWkXwjkb17hb5mQXG-Kw', 'id': 'ZZfVgVnnUpo', 'statistics': {'viewCount': '11153911', 'likeCount': '39929', 'dislikeCount': '3003', 'favoriteCount': '0', 'commentCount': '0'}}], 'pageInfo': {'totalResults': 1, 'resultsPerPage': 1}}, {'kind': 'youtube#videoListResponse', 'etag': 'sD5cNyJEtn8WGKDOJQW0vlHkqDo', 'items': [{'kind': 'youtube#video', 'etag': '6VNIzkPmXYlFwFhLloq_n5j3hkY', 'id': 'qrSL6ziRRtQ', 'statistics': {'viewCount': '666196', 'favoriteCount': '0', 'commentCount': '126'}}], 'pageInfo': {'totalResults': 1, 'resultsPerPage': 1}}, {'kind': 'youtube#videoListResponse', 'etag': 'QbUxw8HSbey_ol7rImpWv9goN7w', 'items': [{'kind': 'youtube#video', 'etag': 'Bzo8re4WZ3GZYn7VE8RZiSYxZAg', 'id': 'RtZD-i9SpU0', 'statistics': {'viewCount': '253232', 'likeCount': '4319', 'dislikeCount': '464', 'favoriteCount': '0', 'commentCount': '214'}}], 'pageInfo': {'totalResults': 1, 'resultsPerPage': 1}}, {'kind': 'youtube#videoListResponse', 'etag': 'We_HWl72ns3_UEqRdyOSOuMRq98', 'items': [{'kind': 'youtube#video', 'etag': 'nCGYZa0PN5cRBzhaxyymbudEwDU', 'id': 'V8GEJkMjtEA', 'statistics': {'viewCount': '1193573', 'likeCount': '9942', 'dislikeCount': '8686', 'favoriteCount': '0', 'commentCount': '19180'}}], 'pageInfo': {'totalResults': 1, 'resultsPerPage': 1}}, {'kind': 'youtube#videoListResponse', 'etag': 'QtfJOVJRAjZHSV0KslQ7F3Acd-A', 'items': [{'kind': 'youtube#video', 'etag': 'T1bqItDqT_gs-gSSfpBPL0G311c', 'id': '-JdB90n7XX0', 'statistics': {'viewCount': '1040793', 'likeCount': '8584', 'dislikeCount': '774', 'favoriteCount': '0', 'commentCount': '2446'}}], 'pageInfo': {'totalResults': 1, 'resultsPerPage': 1}}, {'kind': 'youtube#videoListResponse', 'etag': 'mzCdtBTt5kn9laRRxCYISDR-hno', 'items': [{'kind': 'youtube#video', 'etag': 'HB-fss5spl5uQh1wAC8DJjocmg4', 'id': 'l_Glj8ydssU', 'statistics': {'viewCount': '96541', 'likeCount': '1859', 'dislikeCount': '144', 'favoriteCount': '0', 'commentCount': '105'}}], 'pageInfo': {'totalResults': 1, 'resultsPerPage': 1}}, {'kind': 'youtube#videoListResponse', 'etag': 'F3VXMYA52UJce6Tjkn3-WaMXtog', 'items': [{'kind': 'youtube#video', 'etag': 'L8T6dCXYc6TfAk6ZXQv96Xgu54o', 'id': 'LGJcg9uvVzw', 'statistics': {'viewCount': '30915', 'likeCount': '1012', 'dislikeCount': '2232', 'favoriteCount': '0', 'commentCount': '3479'}}], 'pageInfo': {'totalResults': 1, 'resultsPerPage': 1}}, {'kind': 'youtube#videoListResponse', 'etag': 'zOnZF733S4TEd7zgDwRwf4dXXUw', 'items': [{'kind': 'youtube#video', 'etag': '1uYdu07tu_NuibUO92zVyLjLi3I', 'id': 'LLFXii1N-lo', 'statistics': {'viewCount': '658785', 'likeCount': '6516', 'dislikeCount': '507', 'favoriteCount': '0', 'commentCount': '1841'}}], 'pageInfo': {'totalResults': 1, 'resultsPerPage': 1}}, {'kind': 'youtube#videoListResponse', 'etag': 'xmjglgGnyIaWCB7dUlgIeA31fC8', 'items': [{'kind': 'youtube#video', 'etag': 'u7hwcsTFOP_ojqMmnP801MI3yn8', 'id': 'cA6ZL3F9Anc', 'statistics': {'viewCount': '418594', 'likeCount': '5334', 'dislikeCount': '995', 'favoriteCount': '0', 'commentCount': '413'}}], 'pageInfo': {'totalResults': 1, 'resultsPerPage': 1}}, {'kind': 'youtube#videoListResponse', 'etag': 'yUvkbEvU_sc4eLeL5hR3laqJpR8', 'items': [{'kind': 'youtube#video', 'etag': 'zDnI77NaHT1sBqK8QJ3xgvfN5bc', 'id': 'hVVlxzjtrjw', 'statistics': {'viewCount': '312306', 'likeCount': '6109', 'dislikeCount': '455', 'favoriteCount': '0', 'commentCount': '3622'}}], 'pageInfo': {'totalResults': 1, 'resultsPerPage': 1}}, {'kind': 'youtube#videoListResponse', 'etag': 'o6XlYFZuO06DqGnNptOcwkepbiM', 'items': [{'kind': 'youtube#video', 'etag': 'LrZ4MOtIiQx9dQkpihQR-xdpmLA', 'id': 'KD_uAMkvrdw', 'statistics': {'viewCount': '139356', 'likeCount': '2251', 'dislikeCount': '527', 'favoriteCount': '0', 'commentCount': '223'}}], 'pageInfo': {'totalResults': 1, 'resultsPerPage': 1}}, {'kind': 'youtube#videoListResponse', 'etag': 'fM5vU1C5vdZ6BweHhTha0Y2H9tY', 'items': [{'kind': 'youtube#video', 'etag': 'raxoVAzGP69k2RVl7uA1mqVYzmU', 'id': 'Cjs5adOAl7I', 'statistics': {'viewCount': '207648', 'likeCount': '2299', 'dislikeCount': '420', 'favoriteCount': '0', 'commentCount': '90'}}], 'pageInfo': {'totalResults': 1, 'resultsPerPage': 1}}, {'kind': 'youtube#videoListResponse', 'etag': 'LHHQinWUAEIfZlrUCowCvCvhwIo', 'items': [{'kind': 'youtube#video', 'etag': 'w_OyLvnBAsBNVkMLR-YYm6uhJN4', 'id': 'fje939EX85E', 'statistics': {'viewCount': '175948', 'likeCount': '1163', 'dislikeCount': '184', 'favoriteCount': '0', 'commentCount': '610'}}], 'pageInfo': {'totalResults': 1, 'resultsPerPage': 1}}, {'kind': 'youtube#videoListResponse', 'etag': 'qpk5QYi8Z8Yw1ZOVWWJUpPnpFKs', 'items': [{'kind': 'youtube#video', 'etag': 'O91lB2kkczINAaJaxBXROUSGP84', 'id': 'nikwV7t_jB8', 'statistics': {'viewCount': '1035442', 'likeCount': '8374', 'dislikeCount': '700', 'favoriteCount': '0', 'commentCount': '2683'}}], 'pageInfo': {'totalResults': 1, 'resultsPerPage': 1}}, {'kind': 'youtube#videoListResponse', 'etag': 'jHKR24eZ8CMeGoOoJJXQd9Ia4C4', 'items': [{'kind': 'youtube#video', 'etag': '3HbGw4kaXunUUKKJ7saDJ-kEN6w', 'id': 'dJy1I-S7abU', 'statistics': {'viewCount': '156555', 'likeCount': '2486', 'dislikeCount': '226', 'favoriteCount': '0', 'commentCount': '1094'}}], 'pageInfo': {'totalResults': 1, 'resultsPerPage': 1}}, {'kind': 'youtube#videoListResponse', 'etag': 'nEWIMs51eO2XXwFt2rNFML75ays', 'items': [{'kind': 'youtube#video', 'etag': 'OKO7biGVv-KeAaIiZ0IlxM3brio', 'id': 'cl5UaA8iQxc', 'statistics': {'viewCount': '134083', 'likeCount': '1525', 'dislikeCount': '275', 'favoriteCount': '0', 'commentCount': '82'}}], 'pageInfo': {'totalResults': 1, 'resultsPerPage': 1}}, {'kind': 'youtube#videoListResponse', 'etag': 'avmghDAm27nYWxdnn5X0RKKLmXY', 'items': [{'kind': 'youtube#video', 'etag': 'lJpkn7aTWvS2njzT-vQbL_GTe6I', 'id': 'BrWsD2vyLx8', 'statistics': {'viewCount': '435815', 'likeCount': '4627', 'dislikeCount': '306', 'favoriteCount': '0', 'commentCount': '1683'}}], 'pageInfo': {'totalResults': 1, 'resultsPerPage': 1}}, {'kind': 'youtube#videoListResponse', 'etag': 'xeG9BScXMKMsh4QmcnR-3FqsrqM', 'items': [{'kind': 'youtube#video', 'etag': 'W_RCAgL55vWQPJX9NPPtdrjT4CY', 'id': 'rncnP-ZRyyg', 'statistics': {'viewCount': '520457', 'likeCount': '4753', 'dislikeCount': '274', 'favoriteCount': '0', 'commentCount': '1390'}}], 'pageInfo': {'totalResults': 1, 'resultsPerPage': 1}}, {'kind': 'youtube#videoListResponse', 'etag': 'gzxIfUXwPJHwvSqf9mF398pBoeM', 'items': [{'kind': 'youtube#video', 'etag': 'xcH7qBm9k5Y6Nr6_eWvEHVVA3aY', 'id': 'LMrV4JdLiBE', 'statistics': {'viewCount': '3310156', 'likeCount': '6563', 'dislikeCount': '1734', 'favoriteCount': '0', 'commentCount': '0'}}], 'pageInfo': {'totalResults': 1, 'resultsPerPage': 1}}, {'kind': 'youtube#videoListResponse', 'etag': '-vjjsp1lsRuX4-3qw1ru31Hnnhw', 'items': [{'kind': 'youtube#video', 'etag': 'uN1bYLgIMX9JJ3gScU_R14smOqg', 'id': 'kf9xMnKgqnE', 'statistics': {'viewCount': '2078256', 'likeCount': '31858', 'dislikeCount': '1777', 'favoriteCount': '0', 'commentCount': '7671'}}], 'pageInfo': {'totalResults': 1, 'resultsPerPage': 1}}, {'kind': 'youtube#videoListResponse', 'etag': 'ctvQwjkY6lga5ylFaAf-kJFV_00', 'items': [{'kind': 'youtube#video', 'etag': 'r2jtgrClp2Cx01pq3_q63djxoh8', 'id': 'fZw_G7DYC_M', 'statistics': {'viewCount': '1354841', 'likeCount': '8386', 'dislikeCount': '786', 'favoriteCount': '0', 'commentCount': '2712'}}], 'pageInfo': {'totalResults': 1, 'resultsPerPage': 1}}, {'kind': 'youtube#videoListResponse', 'etag': 'hDxo2DcJtAvmuDibPtT_u1zz9EI', 'items': [{'kind': 'youtube#video', 'etag': 'Dg8m1E7xWAKNYTxU1ZuhFQYUGVE', 'id': 'E-qJMJbkbWI', 'statistics': {'viewCount': '163240', 'likeCount': '1190', 'dislikeCount': '184', 'favoriteCount': '0', 'commentCount': '0'}}], 'pageInfo': {'totalResults': 1, 'resultsPerPage': 1}}, {'kind': 'youtube#videoListResponse', 'etag': 'GziTbQ3eIDSFYJpVpUyyF_ZYNFU', 'items': [{'kind': 'youtube#video', 'etag': 'Fy1Y6HCakqbutPZrOBj5dt2ZYXQ', 'id': 'SGhM3kvX4Rw', 'statistics': {'viewCount': '2349', 'likeCount': '69', 'dislikeCount': '5', 'favoriteCount': '0', 'commentCount': '0'}}], 'pageInfo': {'totalResults': 1, 'resultsPerPage': 1}}, {'kind': 'youtube#videoListResponse', 'etag': 'CD0DDsGcnB8d_WLc73ZN93gTlUw', 'items': [{'kind': 'youtube#video', 'etag': '___ctBseRKA44ayog0eZ_Z_o0Ns', 'id': '_vdT8DO8mUw', 'statistics': {'viewCount': '136475', 'likeCount': '1241', 'dislikeCount': '464', 'favoriteCount': '0', 'commentCount': '623'}}], 'pageInfo': {'totalResults': 1, 'resultsPerPage': 1}}, {'kind': 'youtube#videoListResponse', 'etag': 'Xr-KfiicEFBkq4AiJGVl9ZlRSM4', 'items': [{'kind': 'youtube#video', 'etag': 'c1SbE7YPVusPwZ9gXjgE17gZOZg', 'id': 'CQ6UgWySuXE', 'statistics': {'viewCount': '192219', 'likeCount': '1079', 'dislikeCount': '142', 'favoriteCount': '0', 'commentCount': '16'}}], 'pageInfo': {'totalResults': 1, 'resultsPerPage': 1}}, {'kind': 'youtube#videoListResponse', 'etag': '90DbvbdHZqdTMcVPWk_dIMXwqjs', 'items': [{'kind': 'youtube#video', 'etag': '-hnQWWMMs-DbVxP6UeuBrptKjGk', 'id': 'XdQk0s5A6zU', 'statistics': {'viewCount': '142269', 'likeCount': '496', 'dislikeCount': '63', 'favoriteCount': '0', 'commentCount': '2'}}], 'pageInfo': {'totalResults': 1, 'resultsPerPage': 1}}, {'kind': 'youtube#videoListResponse', 'etag': 'jYQafYgefwGbNZnJjNO0nHs_1aw', 'items': [{'kind': 'youtube#video', 'etag': '0JJElUBofr7QbsFGbXf7Ww40nG0', 'id': 'pwX31vgLs-U', 'statistics': {'viewCount': '90996', 'likeCount': '1117', 'dislikeCount': '144', 'favoriteCount': '0', 'commentCount': '3'}}], 'pageInfo': {'totalResults': 1, 'resultsPerPage': 1}}, {'kind': 'youtube#videoListResponse', 'etag': 'xq9c43mr0iK4jMnLdGhdrsglXcc', 'items': [{'kind': 'youtube#video', 'etag': 'G4iqrvxlvJ1pND3wuABoAg3Cwak', 'id': 'N3HYP0oP6Hc', 'statistics': {'viewCount': '42608', 'favoriteCount': '0', 'commentCount': '1'}}], 'pageInfo': {'totalResults': 1, 'resultsPerPage': 1}}, {'kind': 'youtube#videoListResponse', 'etag': '5B0NeTdalB5wARwIc_5W5CYCbl8', 'items': [{'kind': 'youtube#video', 'etag': '2LeMGD8xh3u1LFQS6P9z9LQLBbc', 'id': 'CreEhidvO10', 'statistics': {'viewCount': '139203', 'likeCount': '906', 'dislikeCount': '89', 'favoriteCount': '0', 'commentCount': '29'}}], 'pageInfo': {'totalResults': 1, 'resultsPerPage': 1}}, {'kind': 'youtube#videoListResponse', 'etag': 't4grvj3yG4PxWF0BjZfEbTTfQOo', 'items': [{'kind': 'youtube#video', 'etag': '8eClFyoCFenI3DcpziKXy91rHOQ', 'id': 'D6VpR9B6cvA', 'statistics': {'viewCount': '92731', 'likeCount': '669', 'dislikeCount': '58', 'favoriteCount': '0', 'commentCount': '25'}}], 'pageInfo': {'totalResults': 1, 'resultsPerPage': 1}}, {'kind': 'youtube#videoListResponse', 'etag': 'YG2xYs6p5Gmici-Jckkb8BpDQos', 'items': [{'kind': 'youtube#video', 'etag': 'o8r3y1rIBfbGPLVPdAFoQijaq30', 'id': 'onp-aYen728', 'statistics': {'viewCount': '83116', 'likeCount': '595', 'dislikeCount': '56', 'favoriteCount': '0', 'commentCount': '22'}}], 'pageInfo': {'totalResults': 1, 'resultsPerPage': 1}}, {'kind': 'youtube#videoListResponse', 'etag': 'RlCFZo4WC9g3zXZR2i0CdV6_z0I', 'items': [{'kind': 'youtube#video', 'etag': 'N18LfbBQWP_WaajSjNSkJnsB6c8', 'id': 'n7OYG5Ap5GU', 'statistics': {'viewCount': '115195', 'likeCount': '773', 'dislikeCount': '70', 'favoriteCount': '0', 'commentCount': '16'}}], 'pageInfo': {'totalResults': 1, 'resultsPerPage': 1}}, {'kind': 'youtube#videoListResponse', 'etag': 'k6HQPUmY_f-bwMfOPSS62ku5OZ8', 'items': [{'kind': 'youtube#video', 'etag': 'DXno2OhOZvd36CbBN5dDqME0I8Q', 'id': 'Pvvb0V-V8fE', 'statistics': {'viewCount': '22383', 'likeCount': '211', 'dislikeCount': '72', 'favoriteCount': '0', 'commentCount': '7'}}], 'pageInfo': {'totalResults': 1, 'resultsPerPage': 1}}, {'kind': 'youtube#videoListResponse', 'etag': '2gycXKQG7uRumAeed9EBryRtcFw', 'items': [{'kind': 'youtube#video', 'etag': 'dPhiYG1xHZHgkGNMgFuL34aEAcI', 'id': 'dzS85ZF6EZg', 'statistics': {'viewCount': '28601', 'favoriteCount': '0', 'commentCount': '4'}}], 'pageInfo': {'totalResults': 1, 'resultsPerPage': 1}}, {'kind': 'youtube#videoListResponse', 'etag': 'xmjglgGnyIaWCB7dUlgIeA31fC8', 'items': [{'kind': 'youtube#video', 'etag': 'u7hwcsTFOP_ojqMmnP801MI3yn8', 'id': 'cA6ZL3F9Anc', 'statistics': {'viewCount': '418594', 'likeCount': '5334', 'dislikeCount': '995', 'favoriteCount': '0', 'commentCount': '413'}}], 'pageInfo': {'totalResults': 1, 'resultsPerPage': 1}}, {'kind': 'youtube#videoListResponse', 'etag': '7V597niM6YsgWFPlc9eKvhMQGEs', 'items': [{'kind': 'youtube#video', 'etag': '30X-5CnDNFNmc1AP59pXaJODbjo', 'id': 'nGI65etu0hI', 'statistics': {'viewCount': '6640', 'likeCount': '33', 'dislikeCount': '44', 'favoriteCount': '0', 'commentCount': '14'}}], 'pageInfo': {'totalResults': 1, 'resultsPerPage': 1}}, {'kind': 'youtube#videoListResponse', 'etag': 'WojT1s3RwzUSRg0b2y-fAjdlRWU', 'items': [{'kind': 'youtube#video', 'etag': 'a4iy7I_1kiTL9R5DZGhJzV191VU', 'id': '4ySkblTTB4g', 'statistics': {'viewCount': '64708', 'likeCount': '194', 'dislikeCount': '43', 'favoriteCount': '0', 'commentCount': '8'}}], 'pageInfo': {'totalResults': 1, 'resultsPerPage': 1}}, {'kind': 'youtube#videoListResponse', 'etag': 'aKXkdbdnSn9rri36YXUpna1km-8', 'items': [{'kind': 'youtube#video', 'etag': 'qKf7-PWbzPr5Oqc3iBWAoO4uvr4', 'id': 'Tr43d_47C1s', 'statistics': {'viewCount': '7720', 'likeCount': '39', 'dislikeCount': '5', 'favoriteCount': '0', 'commentCount': '4'}}], 'pageInfo': {'totalResults': 1, 'resultsPerPage': 1}}, {'kind': 'youtube#videoListResponse', 'etag': 'FE2mbwSxlprRP2gHU36emvDKQew', 'items': [{'kind': 'youtube#video', 'etag': 'AzmftWAqgTfP5FdeVW_368dnar0', 'id': 'r7coirWqAEQ', 'statistics': {'viewCount': '41536', 'likeCount': '297', 'dislikeCount': '60', 'favoriteCount': '0', 'commentCount': '194'}}], 'pageInfo': {'totalResults': 1, 'resultsPerPage': 1}}, {'kind': 'youtube#videoListResponse', 'etag': '-JATMoh2J7D-djyLh6KGgJ-D3Xc', 'items': [{'kind': 'youtube#video', 'etag': 'fXiGu2DQZnHK1zZjm6YlXru5jnU', 'id': 'Ai6Y6z97fKI', 'statistics': {'viewCount': '2707955', 'likeCount': '33298', 'dislikeCount': '4395', 'favoriteCount': '0', 'commentCount': '5000'}}], 'pageInfo': {'totalResults': 1, 'resultsPerPage': 1}}, {'kind': 'youtube#videoListResponse', 'etag': 'KVxYLi0WhcS3bBY-Iquht3oXh3Y', 'items': [{'kind': 'youtube#video', 'etag': 'BEDJuqw-bU2VD5Y27RPM6jDzyYs', 'id': 'ioVq4WNlIuk', 'statistics': {'viewCount': '23309', 'likeCount': '181', 'dislikeCount': '9', 'favoriteCount': '0', 'commentCount': '17'}}], 'pageInfo': {'totalResults': 1, 'resultsPerPage': 1}}, {'kind': 'youtube#videoListResponse', 'etag': 'ocbEkExJHTcFFgdvjno12N4mMOw', 'items': [{'kind': 'youtube#video', 'etag': 'V9ls9IlwCXg2Pt5BQVp8ltCNe-4', 'id': 'y8FOiBFLJPk', 'statistics': {'viewCount': '25108', 'favoriteCount': '0', 'commentCount': '19'}}], 'pageInfo': {'totalResults': 1, 'resultsPerPage': 1}}, {'kind': 'youtube#videoListResponse', 'etag': 'IHHskQN2g6cQBYspIkcJFerJ0IM', 'items': [{'kind': 'youtube#video', 'etag': 'mc1Bhhs9Lb50fngMi2ukZNISMfM', 'id': '0ZOZoAEt1_I', 'statistics': {'viewCount': '12904', 'likeCount': '143', 'dislikeCount': '374', 'favoriteCount': '0'}}], 'pageInfo': {'totalResults': 1, 'resultsPerPage': 1}}, {'kind': 'youtube#videoListResponse', 'etag': 'NLEYgYeM7p8yU6OIuqb7b2Zrl2g', 'items': [{'kind': 'youtube#video', 'etag': '0hXfmGeLh-QVFWWNMLs2tS8vgEs', 'id': '-s87xPeT3aA', 'statistics': {'viewCount': '3292', 'likeCount': '82', 'dislikeCount': '163', 'favoriteCount': '0', 'commentCount': '11'}}], 'pageInfo': {'totalResults': 1, 'resultsPerPage': 1}}, {'kind': 'youtube#videoListResponse', 'etag': '5b2sN0eSeHz7R9XCWK9xu-OUZP0', 'items': [{'kind': 'youtube#video', 'etag': 'vZQHIlqA_NRL5rpZ86SUORL8SJQ', 'id': 'xsJ4O-nSveg', 'statistics': {'viewCount': '58919065', 'likeCount': '308763', 'dislikeCount': '13814', 'favoriteCount': '0', 'commentCount': '12295'}}], 'pageInfo': {'totalResults': 1, 'resultsPerPage': 1}}, {'kind': 'youtube#videoListResponse', 'etag': 'D1R9JtTOL2NWnUGvVeQs93I3IbU', 'items': [{'kind': 'youtube#video', 'etag': 'HKwzTFaC6x5C5Td4rVlo0ELyV-0', 'id': '_J_LU9h7510', 'statistics': {'viewCount': '118765', 'likeCount': '284', 'dislikeCount': '72', 'favoriteCount': '0', 'commentCount': '19'}}], 'pageInfo': {'totalResults': 1, 'resultsPerPage': 1}}, {'kind': 'youtube#videoListResponse', 'etag': 'A9lv7ycrs_kKDR-APdcGuuhjYvA', 'items': [{'kind': 'youtube#video', 'etag': 'eiviib2grTSFepmSTxkSObnG1Jc', 'id': 'SrvQBD6kfRU', 'statistics': {'viewCount': '56238', 'likeCount': '2228', 'dislikeCount': '53', 'favoriteCount': '0', 'commentCount': '125'}}], 'pageInfo': {'totalResults': 1, 'resultsPerPage': 1}}, {'kind': 'youtube#videoListResponse', 'etag': 'ElFp47up5ozWXE_WyDnqp9vNYYE', 'items': [{'kind': 'youtube#video', 'etag': 'dEo0uXSFuZWBhTE0ReFcu0K7XJ4', 'id': '33hC3UZ-u_8', 'statistics': {'viewCount': '39778', 'likeCount': '2083', 'dislikeCount': '44', 'favoriteCount': '0', 'commentCount': '159'}}], 'pageInfo': {'totalResults': 1, 'resultsPerPage': 1}}, {'kind': 'youtube#videoListResponse', 'etag': 'NO0O8NmS6WA6c94RlpcW_zyCg_w', 'items': [{'kind': 'youtube#video', 'etag': 'xkm7Mv2D77l2m0b1UW9PXbKIxaA', 'id': 'lT7cZjvt7SQ', 'statistics': {'viewCount': '33013', 'likeCount': '1522', 'dislikeCount': '16', 'favoriteCount': '0', 'commentCount': '37'}}], 'pageInfo': {'totalResults': 1, 'resultsPerPage': 1}}, {'kind': 'youtube#videoListResponse', 'etag': 'GrCKzuChWA6aknGGWUkyXEEVpm8', 'items': [{'kind': 'youtube#video', 'etag': 'xjNRKn6q1PZnpnJ7UG0csVQvXyg', 'id': 'ZgIGvTjc8xw', 'statistics': {'viewCount': '53195348', 'likeCount': '349991', 'dislikeCount': '48899', 'favoriteCount': '0', 'commentCount': '13768'}}], 'pageInfo': {'totalResults': 1, 'resultsPerPage': 1}}, {'kind': 'youtube#videoListResponse', 'etag': 'HbRUvmwqak5WHXfhCJ5aj1dQtAg', 'items': [{'kind': 'youtube#video', 'etag': 'uhSdw-9yk1JjGXDH6_K_B3mMvaM', 'id': 'WplwEsTqAcU', 'statistics': {'viewCount': '47031', 'likeCount': '2631', 'dislikeCount': '18', 'favoriteCount': '0', 'commentCount': '64'}}], 'pageInfo': {'totalResults': 1, 'resultsPerPage': 1}}, {'kind': 'youtube#videoListResponse', 'etag': 'gSmGJYW6FiN1cSjxHPlRVFIorhc', 'items': [{'kind': 'youtube#video', 'etag': '1JbB3CFrivVYUSQtQBrUxIpH5gM', 'id': 'ryzA2JtDqds', 'statistics': {'viewCount': '26136914', 'likeCount': '115651', 'dislikeCount': '34907', 'favoriteCount': '0', 'commentCount': '0'}}], 'pageInfo': {'totalResults': 1, 'resultsPerPage': 1}}, {'kind': 'youtube#videoListResponse', 'etag': 'khixTsuEP6Bmd9OxxIhQnqrUEaI', 'items': [{'kind': 'youtube#video', 'etag': '6cPOdyfkla-sNUcqN_7opG3Qhog', 'id': '8v7nB5sRe6Q', 'statistics': {'viewCount': '6175735', 'likeCount': '33109', 'dislikeCount': '3420', 'favoriteCount': '0', 'commentCount': '1822'}}], 'pageInfo': {'totalResults': 1, 'resultsPerPage': 1}}, {'kind': 'youtube#videoListResponse', 'etag': '_7GNBnymYpQs6OFiWUt48KP9zyw', 'items': [{'kind': 'youtube#video', 'etag': 'KAUN6DVZPreCjbo83LnbxIT343k', 'id': '5T_4zO9FlHQ', 'statistics': {'viewCount': '26831422', 'likeCount': '707685', 'dislikeCount': '39769', 'favoriteCount': '0', 'commentCount': '6718'}}], 'pageInfo': {'totalResults': 1, 'resultsPerPage': 1}}, {'kind': 'youtube#videoListResponse', 'etag': 'S8eHioYARfCeAwbbrVjrM13z_G0', 'items': [{'kind': 'youtube#video', 'etag': 'sWvXWqehy6oh6m_HYtCLzeIkDW4', 'id': 'PoUnOueAaaI', 'statistics': {'viewCount': '2908678', 'likeCount': '159337', 'dislikeCount': '6330', 'favoriteCount': '0', 'commentCount': '6145'}}], 'pageInfo': {'totalResults': 1, 'resultsPerPage': 1}}, {'kind': 'youtube#videoListResponse', 'etag': '0JUxr6Kz9WbF_O5xL9ScnNeiPmo', 'items': [{'kind': 'youtube#video', 'etag': 'NrqBGK6wJTFpbqNY3luq7I-oSKM', 'id': 'hAoeo-pKHAw', 'statistics': {'viewCount': '508883', 'likeCount': '0', 'dislikeCount': '0', 'favoriteCount': '0', 'commentCount': '1'}}], 'pageInfo': {'totalResults': 1, 'resultsPerPage': 1}}, {'kind': 'youtube#videoListResponse', 'etag': 'Grs_BOJPLmwH816DYM2GRA33RH0', 'items': [{'kind': 'youtube#video', 'etag': 'Q901UgO_15XiEQilhwT3obReJLA', 'id': 'TTyfsxAeHsE', 'statistics': {'viewCount': '12380439', 'likeCount': '271212', 'dislikeCount': '13953', 'favoriteCount': '0', 'commentCount': '2441'}}], 'pageInfo': {'totalResults': 1, 'resultsPerPage': 1}}, {'kind': 'youtube#videoListResponse', 'etag': 'BQK2NXdqrxi3Nd7HzIafDQFRAJg', 'items': [{'kind': 'youtube#video', 'etag': '87myXMCO8cEyvKBIBn6X7AR6l_8', 'id': 'D-0C9bGzSEU', 'statistics': {'viewCount': '259948', 'likeCount': '3902', 'dislikeCount': '303', 'favoriteCount': '0', 'commentCount': '175'}}], 'pageInfo': {'totalResults': 1, 'resultsPerPage': 1}}, {'kind': 'youtube#videoListResponse', 'etag': 'ko6Ed1niZQAV4uK86WpHCZd6GWE', 'items': [{'kind': 'youtube#video', 'etag': 'FU1BOChWLTXQtCC4qPLmLT7T3G0', 'id': '7H-ggibAJC4', 'statistics': {'viewCount': '101', 'likeCount': '3', 'dislikeCount': '0', 'favoriteCount': '0'}}], 'pageInfo': {'totalResults': 1, 'resultsPerPage': 1}}, {'kind': 'youtube#videoListResponse', 'etag': 'i-nDxbLql1XmX4ZPphOpNk6yWTY', 'items': [{'kind': 'youtube#video', 'etag': 'HvObrl2TwQkD1mY8fkut7annbJM', 'id': 'W3w0y2QjjZk', 'statistics': {'viewCount': '1338762', 'favoriteCount': '0', 'commentCount': '1049'}}], 'pageInfo': {'totalResults': 1, 'resultsPerPage': 1}}, {'kind': 'youtube#videoListResponse', 'etag': 'ty391XSKy4kOloc-bFtAAoMwh3M', 'items': [{'kind': 'youtube#video', 'etag': 'BVpJioKnMThyULRklSaJlG_7lJ4', 'id': 'zK6nU4QiIDY', 'statistics': {'viewCount': '35', 'likeCount': '1', 'dislikeCount': '0', 'favoriteCount': '0', 'commentCount': '0'}}], 'pageInfo': {'totalResults': 1, 'resultsPerPage': 1}}, {'kind': 'youtube#videoListResponse', 'etag': 'A_1T4lbLaCtFG5kzUxMVphKSh40', 'items': [{'kind': 'youtube#video', 'etag': 'EBoENpGP42ehMFxcIzL7WpmRgeU', 'id': 'znYi7P6BBOA', 'statistics': {'viewCount': '7522158', 'likeCount': '49169', 'dislikeCount': '7775', 'favoriteCount': '0', 'commentCount': '1563'}}], 'pageInfo': {'totalResults': 1, 'resultsPerPage': 1}}, {'kind': 'youtube#videoListResponse', 'etag': 'CiOPf1p_SWf_yhebh8pfvir7xhY', 'items': [{'kind': 'youtube#video', 'etag': '0LzhyFH38Vkhb8gaQHDjzkzcxNE', 'id': 'DLURENYPiNQ', 'statistics': {'viewCount': '227731', 'likeCount': '2214', 'dislikeCount': '106', 'favoriteCount': '0', 'commentCount': '25'}}], 'pageInfo': {'totalResults': 1, 'resultsPerPage': 1}}, {'kind': 'youtube#videoListResponse', 'etag': '7n_s5_Nq7HPPcGHaN9GD7ECmS-Y', 'items': [{'kind': 'youtube#video', 'etag': 'FZs3pjwH60knFi1OAA68-grvPGU', 'id': 'RLbpx39y4f8', 'statistics': {'viewCount': '767264', 'likeCount': '10650', 'dislikeCount': '316', 'favoriteCount': '0', 'commentCount': '60'}}], 'pageInfo': {'totalResults': 1, 'resultsPerPage': 1}}, {'kind': 'youtube#videoListResponse', 'etag': 'WNBJxygoxrl1o39KMvBlTeDApDo', 'items': [{'kind': 'youtube#video', 'etag': '47CmWUMjzY9x-yu3v7gq52RaWkA', 'id': '8KY10Znej6A', 'statistics': {'viewCount': '15746', 'likeCount': '205', 'dislikeCount': '10', 'favoriteCount': '0', 'commentCount': '8'}}], 'pageInfo': {'totalResults': 1, 'resultsPerPage': 1}}, {'kind': 'youtube#videoListResponse', 'etag': 'reJPy7mtETp1ReKu3ZRCaGukoJM', 'items': [{'kind': 'youtube#video', 'etag': '7yoCYHeZE7gFoTDtauS0ojrR-oE', 'id': '9etxOGwTdhE', 'statistics': {'viewCount': '3114511', 'likeCount': '23711', 'dislikeCount': '2495', 'favoriteCount': '0', 'commentCount': '781'}}], 'pageInfo': {'totalResults': 1, 'resultsPerPage': 1}}, {'kind': 'youtube#videoListResponse', 'etag': 'ZWiHuvdncYCY1C0YYk4_c_43td8', 'items': [{'kind': 'youtube#video', 'etag': 'adfEwAN7-JMBETZb9EFoTXAisJw', 'id': '-cV51YJ_34Y', 'statistics': {'viewCount': '13620', 'likeCount': '138', 'dislikeCount': '8', 'favoriteCount': '0', 'commentCount': '11'}}], 'pageInfo': {'totalResults': 1, 'resultsPerPage': 1}}, {'kind': 'youtube#videoListResponse', 'etag': 'Yy1Vja6uI2vq5ULNpOY5WgnPju0', 'items': [{'kind': 'youtube#video', 'etag': 'UsZ4WZ_CRqQ-qz_-ovej8wze-E8', 'id': '_JQXR7kvht4', 'statistics': {'viewCount': '592740', 'likeCount': '7199', 'dislikeCount': '666', 'favoriteCount': '0', 'commentCount': '357'}}], 'pageInfo': {'totalResults': 1, 'resultsPerPage': 1}}, {'kind': 'youtube#videoListResponse', 'etag': 'fUVRgb9cZWaeJRzXpQ9Ey9S7pe8', 'items': [{'kind': 'youtube#video', 'etag': 'K70B3GYAt3FFsjb8UODVvOTObCA', 'id': 'IKObMu7IfyU', 'statistics': {'viewCount': '805849', 'likeCount': '23656', 'dislikeCount': '1778', 'favoriteCount': '0', 'commentCount': '695'}}], 'pageInfo': {'totalResults': 1, 'resultsPerPage': 1}}, {'kind': 'youtube#videoListResponse', 'etag': '35r_YBefxZQYkrs_n42Mh2adIF8', 'items': [{'kind': 'youtube#video', 'etag': 'TAGKpLyao0-eoadBB0keBywlr8w', 'id': 'fulWeKosvxw', 'statistics': {'viewCount': '1824235', 'likeCount': '15576', 'dislikeCount': '2130', 'favoriteCount': '0', 'commentCount': '176'}}], 'pageInfo': {'totalResults': 1, 'resultsPerPage': 1}}, {'kind': 'youtube#videoListResponse', 'etag': '2Zm1hOv5h34Ri1BEW_X0gjHoJp0', 'items': [{'kind': 'youtube#video', 'etag': 'VjhrxNxgmXNgv74_juq877Oawgo', 'id': '13TDFsXat3M', 'statistics': {'viewCount': '55', 'likeCount': '2', 'dislikeCount': '0', 'favoriteCount': '0', 'commentCount': '0'}}], 'pageInfo': {'totalResults': 1, 'resultsPerPage': 1}}, {'kind': 'youtube#videoListResponse', 'etag': '5tbCqoYqg_ObQwnoFC5yH5Qn6kE', 'items': [{'kind': 'youtube#video', 'etag': '4aRFtOSsPdWXtJZqb7ncMkSkLbY', 'id': 'Rr0uFzAOQus', 'statistics': {'viewCount': '6283869', 'favoriteCount': '0', 'commentCount': '0'}}], 'pageInfo': {'totalResults': 1, 'resultsPerPage': 1}}, {'kind': 'youtube#videoListResponse', 'etag': 'dcY9cHan4nMM6ISuX32t3a1zvnQ', 'items': [{'kind': 'youtube#video', 'etag': 'YE36rD7TnZtBp2Jx7W-wa6ha4XA', 'id': 'OTuph9pJWU4', 'statistics': {'viewCount': '3577842', 'likeCount': '16150', 'dislikeCount': '2284', 'favoriteCount': '0', 'commentCount': '172'}}], 'pageInfo': {'totalResults': 1, 'resultsPerPage': 1}}, {'kind': 'youtube#videoListResponse', 'etag': '4_Tn9qp3_SPcP0-Yzg58-x0coYo', 'items': [{'kind': 'youtube#video', 'etag': '6RyYvF4gPQb9izUZYyf0oRHs_cw', 'id': '9S3FRENg43I', 'statistics': {'viewCount': '26863012', 'likeCount': '232746', 'dislikeCount': '21553', 'favoriteCount': '0', 'commentCount': '21402'}}], 'pageInfo': {'totalResults': 1, 'resultsPerPage': 1}}, {'kind': 'youtube#videoListResponse', 'etag': 'oRyMWGZWMgenUXV1qbs_sEovp50', 'items': [{'kind': 'youtube#video', 'etag': 'MRxWZ6buczUxw0ocKSdLJPNYQ-8', 'id': '57jkBY9XL-A', 'statistics': {'viewCount': '340767', 'favoriteCount': '0', 'commentCount': '0'}}], 'pageInfo': {'totalResults': 1, 'resultsPerPage': 1}}, {'kind': 'youtube#videoListResponse', 'etag': 'bQGkuQmpp-EqqmCKkcz0TS-X7is', 'items': [{'kind': 'youtube#video', 'etag': 'uidgNrTRt7Iirhde8wuH_ULXBgA', 'id': '38XyBuC6KuM', 'statistics': {'viewCount': '3885290', 'likeCount': '20143', 'dislikeCount': '5394', 'favoriteCount': '0'}}], 'pageInfo': {'totalResults': 1, 'resultsPerPage': 1}}, {'kind': 'youtube#videoListResponse', 'etag': '47HeALDC1jcL1AiTI_PQT5rlZgo', 'items': [{'kind': 'youtube#video', 'etag': 'rq_URG5AHI9RW1an98wkbtFsrYE', 'id': 'qLBffuGoHO4', 'statistics': {'viewCount': '4807628', 'likeCount': '36360', 'dislikeCount': '1697', 'favoriteCount': '0', 'commentCount': '1265'}}], 'pageInfo': {'totalResults': 1, 'resultsPerPage': 1}}, {'kind': 'youtube#videoListResponse', 'etag': 'Rv4YdZd8HaV5GrfuGVwWu9ydNPA', 'items': [{'kind': 'youtube#video', 'etag': 'jUAPiegPnpW7yhOaiD9xKTe6zIE', 'id': 'xLkC-ODKQSc', 'statistics': {'viewCount': '791336', 'likeCount': '23591', 'dislikeCount': '863', 'favoriteCount': '0', 'commentCount': '602'}}], 'pageInfo': {'totalResults': 1, 'resultsPerPage': 1}}, {'kind': 'youtube#videoListResponse', 'etag': 'FfJoclXBk-1VC1_iFfcwQXmyLKY', 'items': [{'kind': 'youtube#video', 'etag': 'wJB-_jhP6YWlSx_fKdrsh60lqaM', 'id': '4HUCJliVbsw', 'statistics': {'viewCount': '16784357', 'likeCount': '27332', 'dislikeCount': '10074', 'favoriteCount': '0', 'commentCount': '242'}}], 'pageInfo': {'totalResults': 1, 'resultsPerPage': 1}}, {'kind': 'youtube#videoListResponse', 'etag': 'BEooWVHL1r7hMhHegl7P-9hd8Vg', 'items': [{'kind': 'youtube#video', 'etag': 'hgOI50OQ94CN_y9PNH_ua9GeEyE', 'id': 'O96fE1E-rf8', 'statistics': {'viewCount': '1659756', 'likeCount': '34412', 'dislikeCount': '510', 'favoriteCount': '0', 'commentCount': '801'}}], 'pageInfo': {'totalResults': 1, 'resultsPerPage': 1}}, {'kind': 'youtube#videoListResponse', 'etag': 'zQFCC8PpTHJM20XCyxMpyaxn8Wg', 'items': [{'kind': 'youtube#video', 'etag': 'CxNIWGO-wNNeFoBCoe0p3iPD8U8', 'id': 'cmDSPaQUyeg', 'statistics': {'viewCount': '54143075', 'likeCount': '129826', 'dislikeCount': '65934', 'favoriteCount': '0', 'commentCount': '486'}}], 'pageInfo': {'totalResults': 1, 'resultsPerPage': 1}}, {'kind': 'youtube#videoListResponse', 'etag': 'ipoL0_bSSyAXYgN4Q0QKtlvho8o', 'items': [{'kind': 'youtube#video', 'etag': 'zTrhPhPOWLdCrbPF8x2jd_qSVzw', 'id': 'HaEmIakO7f4', 'statistics': {'viewCount': '9470384', 'likeCount': '40240', 'dislikeCount': '4416', 'favoriteCount': '0', 'commentCount': '593'}}], 'pageInfo': {'totalResults': 1, 'resultsPerPage': 1}}, {'kind': 'youtube#videoListResponse', 'etag': 'yRwFIQZQNbeWfJ90xk_cGzEYq0w', 'items': [{'kind': 'youtube#video', 'etag': 'E_aSU7VeDxUhUX4mzi0UqZxWqIU', 'id': 'ILIMx9AJ-Vg', 'statistics': {'viewCount': '2501989', 'likeCount': '13413', 'dislikeCount': '3732', 'favoriteCount': '0', 'commentCount': '220'}}], 'pageInfo': {'totalResults': 1, 'resultsPerPage': 1}}, {'kind': 'youtube#videoListResponse', 'etag': '8YsmMO-yOrM4MmxdKkfcH0V5WOs', 'items': [{'kind': 'youtube#video', 'etag': 'fVMQ43Q9vmTMyGeGsKIWYUBco6o', 'id': '9_WBQISVHnw', 'statistics': {'viewCount': '330051397', 'likeCount': '579414', 'dislikeCount': '440487', 'favoriteCount': '0'}}], 'pageInfo': {'totalResults': 1, 'resultsPerPage': 1}}, {'kind': 'youtube#videoListResponse', 'etag': 'rMKov6z4yQlm10QWIf0wUKmtE2w', 'items': [{'kind': 'youtube#video', 'etag': 'L-nMKDxvnWBoHeZ6O5S811gYaEA', 'id': 'LLsqo5THFAE', 'statistics': {'viewCount': '182497301', 'likeCount': '594569', 'dislikeCount': '371706', 'favoriteCount': '0', 'commentCount': '0'}}], 'pageInfo': {'totalResults': 1, 'resultsPerPage': 1}}, {'kind': 'youtube#videoListResponse', 'etag': 'ikKuHeSuWzq0U_qBkDSN93vKQJk', 'items': [{'kind': 'youtube#video', 'etag': '4NClv5gdIHx_Du3XqXJnDCKxGag', 'id': 'y6Fo4i_pLyc', 'statistics': {'viewCount': '106576458', 'likeCount': '98439', 'dislikeCount': '53989', 'favoriteCount': '0'}}], 'pageInfo': {'totalResults': 1, 'resultsPerPage': 1}}, {'kind': 'youtube#videoListResponse', 'etag': 'ipIgJLhfUivuZORDlJziNmz4RY4', 'items': [{'kind': 'youtube#video', 'etag': 'lmOO-IPEh6KL-yMr0fYpBoCg9Ng', 'id': 'UtxaRodBVf8', 'statistics': {'viewCount': '144293262', 'likeCount': '491640', 'dislikeCount': '404062', 'favoriteCount': '0', 'commentCount': '0'}}], 'pageInfo': {'totalResults': 1, 'resultsPerPage': 1}}, {'kind': 'youtube#videoListResponse', 'etag': '0wcp8YCfacRFLUMnKjHBWeSxN1g', 'items': [{'kind': 'youtube#video', 'etag': 'ksPu-yzfeld_uZ5uRzPcc8ufmNs', 'id': 'vkRDOcma9Qk', 'statistics': {'viewCount': '89676970', 'likeCount': '141564', 'dislikeCount': '82155', 'favoriteCount': '0', 'commentCount': '89'}}], 'pageInfo': {'totalResults': 1, 'resultsPerPage': 1}}, {'kind': 'youtube#videoListResponse', 'etag': 'XnXZGdZHl7UcWyIrXL-GqzfanUA', 'items': [{'kind': 'youtube#video', 'etag': 'Gr0_pzhcCBhx6rppgixxUW7Oitg', 'id': 'vwxNBQnhRrM', 'statistics': {'viewCount': '4135186', 'likeCount': '12682', 'dislikeCount': '3113', 'favoriteCount': '0', 'commentCount': '14'}}], 'pageInfo': {'totalResults': 1, 'resultsPerPage': 1}}, {'kind': 'youtube#videoListResponse', 'etag': 'bQPeSHgRen_iS_lOeJkIkNpB8YI', 'items': [{'kind': 'youtube#video', 'etag': 'MnfIqIEtuzsPEcBqVAFXZZkf8f0', 'id': 'Iw56EGYFFb0', 'statistics': {'viewCount': '36363629', 'likeCount': '255213', 'dislikeCount': '32154', 'favoriteCount': '0', 'commentCount': '8769'}}], 'pageInfo': {'totalResults': 1, 'resultsPerPage': 1}}, {'kind': 'youtube#videoListResponse', 'etag': 'al7SHeC-ayRlJwpU8SR5FKCkfXM', 'items': [{'kind': 'youtube#video', 'etag': 'ebk4LoOnicTO0ELeYAtrnC7jSDc', 'id': '5MgBikgcWnY', 'statistics': {'viewCount': '25576581', 'likeCount': '567291', 'dislikeCount': '11875', 'favoriteCount': '0', 'commentCount': '13354'}}], 'pageInfo': {'totalResults': 1, 'resultsPerPage': 1}}, {'kind': 'youtube#videoListResponse', 'etag': 'A3HrUo9J4GV7Ru0fxiIjqTadDxs', 'items': [{'kind': 'youtube#video', 'etag': 'sNTghuSp7AK8bA0d83qvwqt6SaY', 'id': 'YS7vsBgWszI', 'statistics': {'viewCount': '6773254', 'likeCount': '22911', 'dislikeCount': '2434', 'favoriteCount': '0', 'commentCount': '679'}}], 'pageInfo': {'totalResults': 1, 'resultsPerPage': 1}}, {'kind': 'youtube#videoListResponse', 'etag': '4BrP1a6OI6YA0oXFHWHvnMWjN-Y', 'items': [{'kind': 'youtube#video', 'etag': 'vBVykS9ht4-RDTYA5JXto_TX5RQ', 'id': 'Hd6QgsXB7Y0', 'statistics': {'viewCount': '86173656', 'likeCount': '515082', 'dislikeCount': '66963', 'favoriteCount': '0'}}], 'pageInfo': {'totalResults': 1, 'resultsPerPage': 1}}, {'kind': 'youtube#videoListResponse', 'etag': 'iM840yVXhu_FMp6aROIgo44Sfco', 'items': [{'kind': 'youtube#video', 'etag': 'eB4fu5LyrKouoizp1WvWNG5K5AI', 'id': 'bNVQkoCfr6g', 'statistics': {'viewCount': '101477169', 'likeCount': '455561', 'dislikeCount': '294617', 'favoriteCount': '0', 'commentCount': '1033'}}], 'pageInfo': {'totalResults': 1, 'resultsPerPage': 1}}, {'kind': 'youtube#videoListResponse', 'etag': 'CajsvTECXvV-hsVrGNGHJdXDo38', 'items': [{'kind': 'youtube#video', 'etag': 'pw8OQyOd9_2NViLFYv-UnquPzTI', 'id': 'KVyW34E1UP4', 'statistics': {'viewCount': '3922360', 'likeCount': '11016', 'dislikeCount': '2480', 'favoriteCount': '0', 'commentCount': '0'}}], 'pageInfo': {'totalResults': 1, 'resultsPerPage': 1}}, {'kind': 'youtube#videoListResponse', 'etag': 'Yzyqc7Br0ePu-krmklaaM0iz1Iw', 'items': [{'kind': 'youtube#video', 'etag': 'mNas8E3kwXqFoiJ2LGUXxW_UXME', 'id': 'raMEQzGVY3w', 'statistics': {'viewCount': '29795025', 'likeCount': '35033', 'dislikeCount': '10985', 'favoriteCount': '0', 'commentCount': '1414'}}], 'pageInfo': {'totalResults': 1, 'resultsPerPage': 1}}]\n"
     ]
    }
   ],
   "source": [
    "video_stats = get_statistics(ids_df['Video_IDs'])\n",
    "print(video_stats)"
   ]
  },
  {
   "cell_type": "code",
   "execution_count": 13,
   "metadata": {
    "scrolled": true
   },
   "outputs": [
    {
     "name": "stdout",
     "output_type": "stream",
     "text": [
      "{'views': [21105, 19904254, 20880105, 31535600, 840875, 299446905, 61670, 196871, 5453919, 102353, 16882923, 77745102, 2470, 122464, 130198845, 371593700, 154108825, 1439740031, 76956, 308979025, 311192, 332483739, 2029117170, 3007344755, 1512410, 7396890, 390671, 49218144, 6966443, 3435126, 8297684, 41904, 4307484, 14454128, 59638698, 14523764, 2035826, 1147064, 1160027, 20129, 28973797, 96596, 509643, 397804, 1527077, 6928290, 195223, 855065, 225831, 1506010, 8730079, 255522, 1702877, 3068799, 29902903, 1289449, 2103982, 3410125, 42754, 21038094, 27090804, 870240, 2319117, 418415, 26699024, 2829872, 960669, 107104, 14499234, 41943942, 985660, 2503306, 1034359, 154314, 182944, 23001457, 1431707, 120291502, 438487, 146373, 212976, 6881782, 91434, 195114, 374251, 25490, 17436899, 225389, 164324, 61942, 16268, 10192995, 3750, 71232, 175602, 169335, 260086, 102589, 97874, 218531, 163240, 347661, 30164, 96871, 11153911, 666196, 253232, 1193573, 1040793, 96541, 30915, 658785, 418594, 312306, 139356, 207648, 175948, 1035442, 156555, 134083, 435815, 520457, 3310156, 2078256, 1354841, 163240, 2349, 136475, 192219, 142269, 90996, 42608, 139203, 92731, 83116, 115195, 22383, 28601, 418594, 6640, 64708, 7720, 41536, 2707955, 23309, 25108, 12904, 3292, 58919065, 118765, 56238, 39778, 33013, 53195348, 47031, 26136914, 6175735, 26831422, 2908678, 508883, 12380439, 259948, 101, 1338762, 35, 7522158, 227731, 767264, 15746, 3114511, 13620, 592740, 805849, 1824235, 55, 6283869, 3577842, 26863012, 340767, 3885290, 4807628, 791336, 16784357, 1659756, 54143075, 9470384, 2501989, 330051397, 182497301, 106576458, 144293262, 89676970, 4135186, 36363629, 25576581, 6773254, 86173656, 101477169, 3922360, 29795025], 'likes': [439, 115135, 95021, 304997, 110177, 3457416, 2737, 2223, 775177, 1808, 460542, 2780273, 58, 38682, 2295830, 5277646, 6164545, 9879341, 632, 10227512, 24537, 5883609, 20237826, 18611417, 22540, 137207, 2428, 706484, 64208, 127427, 84615, 515, 12531, 92861, 700832, 116665, 47223, 28050, 29133, 325, 691420, 549, 8601, 8147, 27261, 29798, 1760, 7362, 3840, 13118, 513899, 18650, 17811, 154028, 448499, 57344, 80803, 139793, 1558, 791811, 710024, 26517, 102810, 15054, 294779, 61468, 24148, 6433, 660753, 1432491, 27592, 258259, 143507, 14691, 19270, 48061, 16859, 250333, 3470, 4285, 1002, 153603, 2440, 1549, 2318, 704, 64844, 2482, 2209, 799, 190, 190609, 0, 1222, 3061, 7869, 5864, 2973, 1176, 6153, 1190, 2280, 462, 2849, 39929, 0, 4319, 9942, 8584, 1859, 1012, 6516, 5334, 6109, 2251, 2299, 1163, 8374, 2486, 1525, 4627, 4753, 6563, 31858, 8386, 1190, 69, 1241, 1079, 496, 1117, 0, 906, 669, 595, 773, 211, 0, 5334, 33, 194, 39, 297, 33298, 181, 0, 143, 82, 308763, 284, 2228, 2083, 1522, 349991, 2631, 115651, 33109, 707685, 159337, 0, 271212, 3902, 3, 0, 1, 49169, 2214, 10650, 205, 23711, 138, 7199, 23656, 15576, 2, 0, 16150, 232746, 0, 20143, 36360, 23591, 27332, 34412, 129826, 40240, 13413, 579414, 594569, 98439, 491640, 141564, 12682, 255213, 567291, 22911, 515082, 455561, 11016, 35033], 'dislikes': [14, 7579, 11321, 11896, 935, 109341, 48, 88, 7156, 47, 23868, 130324, 1, 59, 66435, 98367, 170262, 347851, 32, 324676, 97, 141805, 731281, 763172, 829, 916, 160, 21394, 2847, 2655, 2145, 22, 1515, 14048, 34458, 4988, 672, 398, 262, 15, 14236, 69, 250, 189, 699, 6555, 43, 226, 85, 531, 4197, 327, 737, 2751, 11326, 1649, 1810, 4538, 23, 11889, 16789, 532, 15604, 332, 35698, 1598, 585, 113, 8274, 21741, 408, 6084, 2935, 763, 295, 15370, 939, 78459, 962, 113, 130, 9152, 58, 216, 116, 35, 6899, 87, 45, 97, 34, 3726, 0, 44, 109, 345, 181, 637, 28, 275, 184, 449, 244, 199, 3003, 0, 464, 8686, 774, 144, 2232, 507, 995, 455, 527, 420, 184, 700, 226, 275, 306, 274, 1734, 1777, 786, 184, 5, 464, 142, 63, 144, 0, 89, 58, 56, 70, 72, 0, 995, 44, 43, 5, 60, 4395, 9, 0, 374, 163, 13814, 72, 53, 44, 16, 48899, 18, 34907, 3420, 39769, 6330, 0, 13953, 303, 0, 0, 0, 7775, 106, 316, 10, 2495, 8, 666, 1778, 2130, 0, 0, 2284, 21553, 0, 5394, 1697, 863, 10074, 510, 65934, 4416, 3732, 440487, 371706, 53989, 404062, 82155, 3113, 32154, 11875, 2434, 66963, 294617, 2480, 10985], 'comments': [0, 10492, 2961, 10721, 26344, 209837, 187, 83, 48244, 0, 0, 255311, 8, 8416, 76147, 0, 334906, 291871, 0, 513600, 2650, 184458, 946583, 651794, 701, 3507, 348, 21398, 2458, 3116, 1457, 174, 258, 9972, 10568, 3394, 4535, 4620, 4167, 192, 28958, 62, 1815, 2894, 1078, 984, 230, 1128, 1291, 474, 21955, 4943, 603, 19220, 21860, 10176, 13009, 14348, 305, 54552, 59183, 2392, 16850, 4178, 8893, 4191, 12607, 620, 35944, 79632, 6434, 12879, 6176, 4397, 1399, 0, 840, 2, 459, 0, 109, 5952, 241, 118, 533, 132, 4530, 211, 174, 84, 21, 7918, 48, 73, 586, 3988, 810, 795, 219, 1541, 0, 1128, 101, 116, 0, 126, 214, 19180, 2446, 105, 3479, 1841, 413, 3622, 223, 90, 610, 2683, 1094, 82, 1683, 1390, 0, 7671, 2712, 0, 0, 623, 16, 2, 3, 1, 29, 25, 22, 16, 7, 4, 413, 14, 8, 4, 194, 5000, 17, 19, 0, 11, 12295, 19, 125, 159, 37, 13768, 64, 0, 1822, 6718, 6145, 1, 2441, 175, 0, 1049, 0, 1563, 25, 60, 8, 781, 11, 357, 695, 176, 0, 0, 172, 21402, 0, 0, 1265, 602, 242, 801, 486, 593, 220, 0, 0, 0, 0, 89, 14, 8769, 13354, 679, 0, 1033, 0, 1414]}\n"
     ]
    }
   ],
   "source": [
    "parsed_stats = parse_statistics(video_stats)\n",
    "print(parsed_stats)"
   ]
  },
  {
   "cell_type": "code",
   "execution_count": 14,
   "metadata": {},
   "outputs": [
    {
     "name": "stdout",
     "output_type": "stream",
     "text": [
      "         views   likes  dislikes  comments\n",
      "0        21105     439        14         0\n",
      "1     19904254  115135      7579     10492\n",
      "2     20880105   95021     11321      2961\n",
      "3     31535600  304997     11896     10721\n",
      "4       840875  110177       935     26344\n",
      "..         ...     ...       ...       ...\n",
      "195    6773254   22911      2434       679\n",
      "196   86173656  515082     66963         0\n",
      "197  101477169  455561    294617      1033\n",
      "198    3922360   11016      2480         0\n",
      "199   29795025   35033     10985      1414\n",
      "\n",
      "[200 rows x 4 columns]\n"
     ]
    }
   ],
   "source": [
    "video_df = pd.DataFrame(data = parsed_stats)\n",
    "print(video_df)"
   ]
  },
  {
   "cell_type": "code",
   "execution_count": 15,
   "metadata": {},
   "outputs": [
    {
     "name": "stdout",
     "output_type": "stream",
     "text": [
      "[0, 1, 1, 1, 0, 1, 0, 0, 1, 0, 1, 1, 0, 0, 1, 1, 1, 1, 0, 1, 0, 1, 1, 1, 1, 1, 0, 1, 1, 1, 1, 0, 1, 1, 1, 1, 1, 1, 1, 0, 1, 0, 0, 0, 1, 1, 0, 0, 0, 1, 1, 0, 1, 1, 1, 1, 1, 1, 0, 1, 1, 0, 1, 0, 1, 1, 0, 0, 1, 1, 0, 1, 1, 0, 0, 1, 1, 1, 0, 0, 0, 1, 0, 0, 0, 0, 1, 0, 0, 0, 0, 1, 0, 0, 0, 0, 0, 0, 0, 0, 0, 0, 0, 0, 1, 0, 0, 1, 1, 0, 0, 0, 0, 0, 0, 0, 0, 1, 0, 0, 0, 0, 1, 1, 1, 0, 0, 0, 0, 0, 0, 0, 0, 0, 0, 0, 0, 0, 0, 0, 0, 0, 0, 1, 0, 0, 0, 0, 1, 0, 0, 0, 0, 1, 0, 1, 1, 1, 1, 0, 1, 0, 0, 1, 0, 1, 0, 0, 0, 1, 0, 0, 0, 1, 0, 1, 1, 1, 0, 1, 1, 0, 1, 1, 1, 1, 1, 1, 1, 1, 1, 1, 1, 1, 1, 1, 1, 1, 1, 1]\n"
     ]
    }
   ],
   "source": [
    "target = determine_target(video_df['views'])\n",
    "print(target)"
   ]
  },
  {
   "cell_type": "code",
   "execution_count": 16,
   "metadata": {},
   "outputs": [
    {
     "data": {
      "text/html": [
       "<div>\n",
       "<style scoped>\n",
       "    .dataframe tbody tr th:only-of-type {\n",
       "        vertical-align: middle;\n",
       "    }\n",
       "\n",
       "    .dataframe tbody tr th {\n",
       "        vertical-align: top;\n",
       "    }\n",
       "\n",
       "    .dataframe thead th {\n",
       "        text-align: right;\n",
       "    }\n",
       "</style>\n",
       "<table border=\"1\" class=\"dataframe\">\n",
       "  <thead>\n",
       "    <tr style=\"text-align: right;\">\n",
       "      <th></th>\n",
       "      <th>views</th>\n",
       "      <th>likes</th>\n",
       "      <th>dislikes</th>\n",
       "      <th>comments</th>\n",
       "      <th>target</th>\n",
       "    </tr>\n",
       "  </thead>\n",
       "  <tbody>\n",
       "    <tr>\n",
       "      <th>0</th>\n",
       "      <td>21105</td>\n",
       "      <td>439</td>\n",
       "      <td>14</td>\n",
       "      <td>0</td>\n",
       "      <td>0</td>\n",
       "    </tr>\n",
       "    <tr>\n",
       "      <th>1</th>\n",
       "      <td>19904254</td>\n",
       "      <td>115135</td>\n",
       "      <td>7579</td>\n",
       "      <td>10492</td>\n",
       "      <td>1</td>\n",
       "    </tr>\n",
       "    <tr>\n",
       "      <th>2</th>\n",
       "      <td>20880105</td>\n",
       "      <td>95021</td>\n",
       "      <td>11321</td>\n",
       "      <td>2961</td>\n",
       "      <td>1</td>\n",
       "    </tr>\n",
       "    <tr>\n",
       "      <th>3</th>\n",
       "      <td>31535600</td>\n",
       "      <td>304997</td>\n",
       "      <td>11896</td>\n",
       "      <td>10721</td>\n",
       "      <td>1</td>\n",
       "    </tr>\n",
       "    <tr>\n",
       "      <th>4</th>\n",
       "      <td>840875</td>\n",
       "      <td>110177</td>\n",
       "      <td>935</td>\n",
       "      <td>26344</td>\n",
       "      <td>0</td>\n",
       "    </tr>\n",
       "  </tbody>\n",
       "</table>\n",
       "</div>"
      ],
      "text/plain": [
       "      views   likes  dislikes  comments  target\n",
       "0     21105     439        14         0       0\n",
       "1  19904254  115135      7579     10492       1\n",
       "2  20880105   95021     11321      2961       1\n",
       "3  31535600  304997     11896     10721       1\n",
       "4    840875  110177       935     26344       0"
      ]
     },
     "execution_count": 16,
     "metadata": {},
     "output_type": "execute_result"
    }
   ],
   "source": [
    "video_df['target'] = target\n",
    "video_df.head()"
   ]
  },
  {
   "cell_type": "code",
   "execution_count": 17,
   "metadata": {},
   "outputs": [
    {
     "name": "stdout",
     "output_type": "stream",
     "text": [
      "        likes  dislikes  comments\n",
      "0   -0.226010 -0.277697 -0.222143\n",
      "1   -0.175713 -0.200270 -0.113423\n",
      "2   -0.184534 -0.161971 -0.191460\n",
      "3   -0.092456 -0.156086 -0.111050\n",
      "4   -0.177888 -0.268271  0.050837\n",
      "..        ...       ...       ...\n",
      "195 -0.216155 -0.252929 -0.215107\n",
      "196 -0.000330  0.407522 -0.222143\n",
      "197 -0.026431  2.737547 -0.211439\n",
      "198 -0.221371 -0.252458 -0.222143\n",
      "199 -0.210840 -0.165410 -0.207491\n",
      "\n",
      "[200 rows x 3 columns]\n"
     ]
    }
   ],
   "source": [
    "scaler = StandardScaler()\n",
    "scaler.fit(video_df.drop(['views', 'target'], axis = 1))\n",
    "scaled_features = scaler.transform(video_df.drop(['views', 'target'], axis = 1))\n",
    "df_features = pd.DataFrame(scaled_features, columns = ['likes', 'dislikes', 'comments'])\n",
    "print(df_features)"
   ]
  },
  {
   "cell_type": "code",
   "execution_count": 18,
   "metadata": {},
   "outputs": [],
   "source": [
    "x = df_features\n",
    "y = video_df['target']\n",
    "x_train, x_test, y_train, y_test = train_test_split(x, y, test_size = 0.30, random_state = 101)"
   ]
  },
  {
   "cell_type": "code",
   "execution_count": 19,
   "metadata": {},
   "outputs": [
    {
     "data": {
      "text/plain": [
       "array([0, 0, 0, 0, 0, 0, 1, 0, 0, 0, 1, 0, 0, 1, 0, 0, 1, 1, 0, 0, 1, 1,\n",
       "       0, 0, 0, 1, 0, 0, 1, 1, 0, 0, 0, 1, 0, 1, 0, 1, 1, 1, 1, 1, 0, 0,\n",
       "       0, 0, 0, 0, 1, 1, 1, 0, 0, 0, 0, 1, 0, 1, 1, 1], dtype=int64)"
      ]
     },
     "execution_count": 19,
     "metadata": {},
     "output_type": "execute_result"
    }
   ],
   "source": [
    "knn = KNeighborsClassifier(n_neighbors = 10)\n",
    "knn.fit(x_train, y_train)\n",
    "predict = knn.predict(x_test)\n",
    "predict"
   ]
  },
  {
   "cell_type": "code",
   "execution_count": 20,
   "metadata": {},
   "outputs": [
    {
     "name": "stdout",
     "output_type": "stream",
     "text": [
      "[[32  2]\n",
      " [ 4 22]]\n",
      "              precision    recall  f1-score   support\n",
      "\n",
      "           0       0.89      0.94      0.91        34\n",
      "           1       0.92      0.85      0.88        26\n",
      "\n",
      "    accuracy                           0.90        60\n",
      "   macro avg       0.90      0.89      0.90        60\n",
      "weighted avg       0.90      0.90      0.90        60\n",
      "\n"
     ]
    }
   ],
   "source": [
    "print (confusion_matrix(y_test, predict))\n",
    "print (classification_report(y_test, predict))"
   ]
  },
  {
   "cell_type": "code",
   "execution_count": 21,
   "metadata": {
    "scrolled": true
   },
   "outputs": [
    {
     "data": {
      "text/plain": [
       "[0.1,\n",
       " 0.13333333333333333,\n",
       " 0.13333333333333333,\n",
       " 0.15,\n",
       " 0.15,\n",
       " 0.11666666666666667,\n",
       " 0.1,\n",
       " 0.11666666666666667,\n",
       " 0.1,\n",
       " 0.1,\n",
       " 0.11666666666666667,\n",
       " 0.1,\n",
       " 0.11666666666666667,\n",
       " 0.13333333333333333,\n",
       " 0.13333333333333333,\n",
       " 0.11666666666666667,\n",
       " 0.1,\n",
       " 0.11666666666666667,\n",
       " 0.1,\n",
       " 0.13333333333333333,\n",
       " 0.11666666666666667,\n",
       " 0.11666666666666667,\n",
       " 0.11666666666666667,\n",
       " 0.11666666666666667,\n",
       " 0.11666666666666667,\n",
       " 0.11666666666666667,\n",
       " 0.11666666666666667,\n",
       " 0.1,\n",
       " 0.1,\n",
       " 0.1,\n",
       " 0.1,\n",
       " 0.1,\n",
       " 0.1,\n",
       " 0.11666666666666667,\n",
       " 0.11666666666666667,\n",
       " 0.11666666666666667,\n",
       " 0.11666666666666667,\n",
       " 0.11666666666666667,\n",
       " 0.11666666666666667,\n",
       " 0.13333333333333333,\n",
       " 0.13333333333333333,\n",
       " 0.13333333333333333,\n",
       " 0.13333333333333333,\n",
       " 0.13333333333333333,\n",
       " 0.13333333333333333,\n",
       " 0.15,\n",
       " 0.15,\n",
       " 0.16666666666666666,\n",
       " 0.15,\n",
       " 0.16666666666666666,\n",
       " 0.15,\n",
       " 0.18333333333333332,\n",
       " 0.16666666666666666,\n",
       " 0.18333333333333332,\n",
       " 0.18333333333333332,\n",
       " 0.2,\n",
       " 0.2,\n",
       " 0.18333333333333332,\n",
       " 0.18333333333333332,\n",
       " 0.18333333333333332,\n",
       " 0.18333333333333332,\n",
       " 0.18333333333333332,\n",
       " 0.18333333333333332,\n",
       " 0.2,\n",
       " 0.2,\n",
       " 0.2,\n",
       " 0.2,\n",
       " 0.2,\n",
       " 0.2,\n",
       " 0.2,\n",
       " 0.2,\n",
       " 0.2,\n",
       " 0.2,\n",
       " 0.21666666666666667,\n",
       " 0.21666666666666667,\n",
       " 0.21666666666666667,\n",
       " 0.21666666666666667,\n",
       " 0.21666666666666667,\n",
       " 0.21666666666666667,\n",
       " 0.21666666666666667,\n",
       " 0.21666666666666667,\n",
       " 0.21666666666666667,\n",
       " 0.21666666666666667,\n",
       " 0.21666666666666667,\n",
       " 0.21666666666666667,\n",
       " 0.23333333333333334,\n",
       " 0.23333333333333334,\n",
       " 0.25,\n",
       " 0.25,\n",
       " 0.25,\n",
       " 0.25,\n",
       " 0.25,\n",
       " 0.25,\n",
       " 0.25,\n",
       " 0.25,\n",
       " 0.26666666666666666,\n",
       " 0.26666666666666666,\n",
       " 0.3,\n",
       " 0.3]"
      ]
     },
     "execution_count": 21,
     "metadata": {},
     "output_type": "execute_result"
    }
   ],
   "source": [
    "error_rate = []\n",
    "for i in range(1,100):\n",
    "    knn = KNeighborsClassifier(n_neighbors = i)\n",
    "    knn.fit(x_train, y_train)\n",
    "    predict_i = knn.predict(x_test)\n",
    "    error_rate.append(np.mean(predict_i!=y_test))\n",
    "\n",
    "error_rate"
   ]
  },
  {
   "cell_type": "code",
   "execution_count": 22,
   "metadata": {},
   "outputs": [
    {
     "data": {
      "text/plain": [
       "Text(0, 0.5, 'Error rate')"
      ]
     },
     "execution_count": 22,
     "metadata": {},
     "output_type": "execute_result"
    },
    {
     "data": {
      "image/png": "[encoded data removed]",
      "text/plain": [
       "<Figure size 720x432 with 1 Axes>"
      ]
     },
     "metadata": {
      "needs_background": "light"
     },
     "output_type": "display_data"
    }
   ],
   "source": [
    "plt.figure(figsize = (10,6))\n",
    "plt.plot(range(1,100), error_rate, color = 'blue', linestyle = 'dashed', marker = 'o', markersize = 10, markerfacecolor = 'red')\n",
    "plt.title('Error Rate vs KNN Values')\n",
    "plt.xlabel('K')\n",
    "plt.ylabel('Error rate')"
   ]
  },
  {
   "cell_type": "code",
   "execution_count": null,
   "metadata": {},
   "outputs": [],
   "source": []
  }
 ],
 "metadata": {
  "kernelspec": {
   "display_name": "Python 3",
   "language": "python",
   "name": "python3"
  },
  "language_info": {
   "codemirror_mode": {
    "name": "ipython",
    "version": 3
   },
   "file_extension": ".py",
   "mimetype": "text/x-python",
   "name": "python",
   "nbconvert_exporter": "python",
   "pygments_lexer": "ipython3",
   "version": "3.8.5"
  }
 },
 "nbformat": 4,
 "nbformat_minor": 4
}
