{
 "cells": [
  {
   "cell_type": "code",
   "execution_count": 1,
   "metadata": {},
   "outputs": [],
   "source": [
    "#pip install --upgrade google-api-python-client"
   ]
  },
  {
   "cell_type": "code",
   "execution_count": 2,
   "metadata": {},
   "outputs": [],
   "source": [
    "#pip install --upgrade google-auth-oauthlib google-auth-httplib2"
   ]
  },
  {
   "cell_type": "code",
   "execution_count": 3,
   "metadata": {},
   "outputs": [],
   "source": [
    "import os\n",
    "import google_auth_oauthlib.flow\n",
    "import googleapiclient.discovery\n",
    "import googleapiclient.errors\n",
    "import pandas as pd\n",
    "import numpy as np\n",
    "import seaborn as sns\n",
    "from matplotlib import pyplot as plt\n",
    "%matplotlib inline\n",
    "\n",
    "from sklearn.preprocessing import StandardScaler\n",
    "from sklearn.model_selection import train_test_split\n",
    "from sklearn.neighbors import KNeighborsClassifier\n",
    "from sklearn.metrics import classification_report, confusion_matrix"
   ]
  },
  {
   "cell_type": "code",
   "execution_count": 4,
   "metadata": {},
   "outputs": [],
   "source": [
    "scopes = [\"https://www.googleapis.com/auth/youtube.force-ssl\"]"
   ]
  },
  {
   "cell_type": "code",
   "execution_count": 5,
   "metadata": {},
   "outputs": [
    {
     "name": "stdout",
     "output_type": "stream",
     "text": [
      "Please visit this URL to authorize this application: https://accounts.google.com/o/oauth2/auth?response_type=code&client_id=615288565318-dd7us4i9infmai01fr3n2nlff2cb44f3.apps.googleusercontent.com&redirect_uri=urn%3Aietf%3Awg%3Aoauth%3A2.0%3Aoob&scope=https%3A%2F%2Fwww.googleapis.com%2Fauth%2Fyoutube.force-ssl&state=3Un6q7IVwGQ7VsmCmBFD50UAVlrsB1&prompt=consent&access_type=offline\n",
      "Enter the authorization code: 4/1AY0e-g4uIfBcViB5j_EMGKaHiyqAcotEJBZmhcqNPz9GNay1-I6CzPhtuPY\n"
     ]
    }
   ],
   "source": [
    "os.environ[\"OAUTHLIB_INSECURE_TRANSPORT\"] = \"1\"\n",
    "    \n",
    "api_service_name = \"youtube\"\n",
    "api_version = \"v3\"\n",
    "client_secrets_file = \"client_secret_615288565318-dd7us4i9infmai01fr3n2nlff2cb44f3.apps.googleusercontent.com.json\"\n",
    "    \n",
    "flow = google_auth_oauthlib.flow.InstalledAppFlow.from_client_secrets_file(client_secrets_file, scopes)\n",
    "credentials = flow.run_console()\n",
    "youtube = googleapiclient.discovery.build(api_service_name, api_version, credentials=credentials)"
   ]
  },
  {
   "cell_type": "code",
   "execution_count": 6,
   "metadata": {},
   "outputs": [],
   "source": [
    "def simple_search(keywords, num_results):\n",
    "    request = youtube.search().list(\n",
    "        q=keywords,\n",
    "        part=\"id\",\n",
    "        type=\"video\",\n",
    "        fields=\"items/id\",\n",
    "        maxResults=num_results\n",
    "    )\n",
    "    response = request.execute()\n",
    "    \n",
    "    videos = []\n",
    "    for search_result in response.get(\"items\",[]):\n",
    "        videos.append(\"%s\" % (search_result[\"id\"][\"videoId\"]))\n",
    "    \n",
    "    return videos"
   ]
  },
  {
   "cell_type": "code",
   "execution_count": 7,
   "metadata": {},
   "outputs": [],
   "source": [
    "def get_statistics(video_ids):\n",
    "    statistics = []\n",
    "    for vid_id in video_ids:\n",
    "        request = youtube.videos().list(part=\"statistics\",id=vid_id)\n",
    "        response = request.execute()\n",
    "        statistics.append(response)\n",
    "    \n",
    "    return statistics"
   ]
  },
  {
   "cell_type": "code",
   "execution_count": 8,
   "metadata": {},
   "outputs": [],
   "source": [
    "def parse_statistics(video_stats):\n",
    "    stat_dict = {}\n",
    "    stat_dict['views'] = []\n",
    "    stat_dict['likes'] = []\n",
    "    stat_dict['dislikes'] = []\n",
    "    stat_dict['comments'] = []\n",
    "    \n",
    "    for vid_stat in video_stats:\n",
    "        try:\n",
    "            stat_dict['views'].append(int(vid_stat['items'][0]['statistics']['viewCount']))\n",
    "        except:\n",
    "            stat_dict['views'].append(0)\n",
    "        \n",
    "        try:\n",
    "            stat_dict['likes'].append(int(vid_stat['items'][0]['statistics']['likeCount']))\n",
    "        except:\n",
    "            stat_dict['likes'].append(0)\n",
    "            \n",
    "        try:\n",
    "            stat_dict['dislikes'].append(int(vid_stat['items'][0]['statistics']['dislikeCount']))\n",
    "        except:\n",
    "            stat_dict['dislikes'].append(0)\n",
    "            \n",
    "        try:\n",
    "            stat_dict['comments'].append(int(vid_stat['items'][0]['statistics']['commentCount']))\n",
    "        except:\n",
    "            stat_dict['comments'].append(0)\n",
    "    \n",
    "    return stat_dict"
   ]
  },
  {
   "cell_type": "code",
   "execution_count": 9,
   "metadata": {},
   "outputs": [],
   "source": [
    "def determine_target (video_views):\n",
    "    target = []\n",
    "#    for i in range(len(video_views)):\n",
    "#        temp1 = int(video_views[i])\n",
    "#        temp2 = int(channel_subscribers[i])\n",
    "#        if temp1 > temp2:\n",
    "#            target.append(1)\n",
    "#        else:\n",
    "#            target.append(0)\n",
    "    for views in video_views:\n",
    "        if views > 1000000:\n",
    "            target.append(1)\n",
    "        else:\n",
    "            target.append(0)\n",
    "    return target"
   ]
  },
  {
   "cell_type": "code",
   "execution_count": 10,
   "metadata": {},
   "outputs": [],
   "source": [
    "music_vids=simple_search(\"music\",25)\n",
    "sports_vids=simple_search(\"sports\",25)\n",
    "gaming_vids=simple_search(\"gaming\",25)\n",
    "movies_vids=simple_search(\"movies and shows\",25)\n",
    "news_vids=simple_search(\"news\",25)\n",
    "live_vids=simple_search(\"live\",25)\n",
    "fashion_vids=simple_search(\"fashion and beauty\",25)\n",
    "learning_vids=simple_search(\"learning\",25)"
   ]
  },
  {
   "cell_type": "code",
   "execution_count": 11,
   "metadata": {
    "scrolled": true
   },
   "outputs": [],
   "source": [
    "ids_df = pd.DataFrame(data=music_vids+sports_vids+gaming_vids+movies_vids+news_vids+live_vids+fashion_vids+learning_vids,columns=[\"Video_IDs\"])\n",
    "#print(ids_df)"
   ]
  },
  {
   "cell_type": "code",
   "execution_count": 12,
   "metadata": {},
   "outputs": [],
   "source": [
    "video_stats = get_statistics(ids_df['Video_IDs'])\n",
    "#print(video_stats)"
   ]
  },
  {
   "cell_type": "code",
   "execution_count": 13,
   "metadata": {
    "scrolled": true
   },
   "outputs": [],
   "source": [
    "parsed_stats = parse_statistics(video_stats)\n",
    "#print(parsed_stats)"
   ]
  },
  {
   "cell_type": "code",
   "execution_count": 14,
   "metadata": {},
   "outputs": [],
   "source": [
    "video_df = pd.DataFrame(data = parsed_stats)\n",
    "#print(video_df)"
   ]
  },
  {
   "cell_type": "code",
   "execution_count": 15,
   "metadata": {},
   "outputs": [],
   "source": [
    "target = determine_target(video_df['views'])\n",
    "#print(target)"
   ]
  },
  {
   "cell_type": "code",
   "execution_count": 16,
   "metadata": {},
   "outputs": [
    {
     "data": {
      "text/html": [
       "<div>\n",
       "<style scoped>\n",
       "    .dataframe tbody tr th:only-of-type {\n",
       "        vertical-align: middle;\n",
       "    }\n",
       "\n",
       "    .dataframe tbody tr th {\n",
       "        vertical-align: top;\n",
       "    }\n",
       "\n",
       "    .dataframe thead th {\n",
       "        text-align: right;\n",
       "    }\n",
       "</style>\n",
       "<table border=\"1\" class=\"dataframe\">\n",
       "  <thead>\n",
       "    <tr style=\"text-align: right;\">\n",
       "      <th></th>\n",
       "      <th>views</th>\n",
       "      <th>likes</th>\n",
       "      <th>dislikes</th>\n",
       "      <th>comments</th>\n",
       "      <th>target</th>\n",
       "    </tr>\n",
       "  </thead>\n",
       "  <tbody>\n",
       "    <tr>\n",
       "      <th>0</th>\n",
       "      <td>19904621</td>\n",
       "      <td>115140</td>\n",
       "      <td>7580</td>\n",
       "      <td>10491</td>\n",
       "      <td>1</td>\n",
       "    </tr>\n",
       "    <tr>\n",
       "      <th>1</th>\n",
       "      <td>21479</td>\n",
       "      <td>444</td>\n",
       "      <td>14</td>\n",
       "      <td>0</td>\n",
       "      <td>0</td>\n",
       "    </tr>\n",
       "    <tr>\n",
       "      <th>2</th>\n",
       "      <td>31537210</td>\n",
       "      <td>305009</td>\n",
       "      <td>11897</td>\n",
       "      <td>10721</td>\n",
       "      <td>1</td>\n",
       "    </tr>\n",
       "    <tr>\n",
       "      <th>3</th>\n",
       "      <td>5512662</td>\n",
       "      <td>779261</td>\n",
       "      <td>7227</td>\n",
       "      <td>48328</td>\n",
       "      <td>1</td>\n",
       "    </tr>\n",
       "    <tr>\n",
       "      <th>4</th>\n",
       "      <td>299461714</td>\n",
       "      <td>3457602</td>\n",
       "      <td>109343</td>\n",
       "      <td>209843</td>\n",
       "      <td>1</td>\n",
       "    </tr>\n",
       "  </tbody>\n",
       "</table>\n",
       "</div>"
      ],
      "text/plain": [
       "       views    likes  dislikes  comments  target\n",
       "0   19904621   115140      7580     10491       1\n",
       "1      21479      444        14         0       0\n",
       "2   31537210   305009     11897     10721       1\n",
       "3    5512662   779261      7227     48328       1\n",
       "4  299461714  3457602    109343    209843       1"
      ]
     },
     "execution_count": 16,
     "metadata": {},
     "output_type": "execute_result"
    }
   ],
   "source": [
    "video_df['target'] = target\n",
    "video_df.head()"
   ]
  },
  {
   "cell_type": "code",
   "execution_count": 17,
   "metadata": {},
   "outputs": [],
   "source": [
    "scaler = StandardScaler()\n",
    "scaler.fit(video_df.drop(['views', 'target'], axis = 1))\n",
    "scaled_features = scaler.transform(video_df.drop(['views', 'target'], axis = 1))\n",
    "df_features = pd.DataFrame(scaled_features, columns = ['likes', 'dislikes', 'comments'])\n",
    "#print(df_features)"
   ]
  },
  {
   "cell_type": "code",
   "execution_count": 18,
   "metadata": {},
   "outputs": [],
   "source": [
    "x = df_features\n",
    "y = video_df['target']\n",
    "x_train, x_test, y_train, y_test = train_test_split(x, y, test_size = 0.30, random_state = 101)"
   ]
  },
  {
   "cell_type": "code",
   "execution_count": 23,
   "metadata": {},
   "outputs": [
    {
     "data": {
      "text/plain": [
       "array([0, 1, 0, 0, 0, 1, 1, 1, 0, 0, 0, 0, 0, 1, 1, 0, 1, 1, 0, 1, 1, 1,\n",
       "       0, 1, 1, 1, 0, 0, 1, 1, 1, 0, 0, 1, 0, 1, 0, 1, 1, 1, 1, 1, 0, 1,\n",
       "       0, 0, 0, 1, 1, 1, 0, 1, 0, 0, 1, 0, 1, 1, 1, 0], dtype=int64)"
      ]
     },
     "execution_count": 23,
     "metadata": {},
     "output_type": "execute_result"
    }
   ],
   "source": [
    "knn = KNeighborsClassifier(n_neighbors = 3)\n",
    "knn.fit(x_train, y_train)\n",
    "predict = knn.predict(x_test)\n",
    "predict"
   ]
  },
  {
   "cell_type": "code",
   "execution_count": 24,
   "metadata": {},
   "outputs": [
    {
     "name": "stdout",
     "output_type": "stream",
     "text": [
      "[[25  3]\n",
      " [ 2 30]]\n",
      "              precision    recall  f1-score   support\n",
      "\n",
      "           0       0.93      0.89      0.91        28\n",
      "           1       0.91      0.94      0.92        32\n",
      "\n",
      "    accuracy                           0.92        60\n",
      "   macro avg       0.92      0.92      0.92        60\n",
      "weighted avg       0.92      0.92      0.92        60\n",
      "\n"
     ]
    }
   ],
   "source": [
    "print (confusion_matrix(y_test, predict))\n",
    "print (classification_report(y_test, predict))"
   ]
  },
  {
   "cell_type": "code",
   "execution_count": 25,
   "metadata": {
    "scrolled": true
   },
   "outputs": [],
   "source": [
    "error_rate = []\n",
    "for i in range(1,100):\n",
    "    knn = KNeighborsClassifier(n_neighbors = i)\n",
    "    knn.fit(x_train, y_train)\n",
    "    predict_i = knn.predict(x_test)\n",
    "    error_rate.append(np.mean(predict_i!=y_test))\n",
    "\n",
    "#error_rate"
   ]
  },
  {
   "cell_type": "code",
   "execution_count": 26,
   "metadata": {},
   "outputs": [
    {
     "data": {
      "text/plain": [
       "Text(0, 0.5, 'Error rate')"
      ]
     },
     "execution_count": 26,
     "metadata": {},
     "output_type": "execute_result"
    },
    {
     "data": {
      "image/png": "[encoded data removed]",
      "text/plain": [
       "<Figure size 720x432 with 1 Axes>"
      ]
     },
     "metadata": {
      "needs_background": "light"
     },
     "output_type": "display_data"
    }
   ],
   "source": [
    "plt.figure(figsize = (10,6))\n",
    "plt.plot(range(1,100), error_rate, color = 'blue', linestyle = 'dashed', marker = 'o', markersize = 10, markerfacecolor = 'red')\n",
    "plt.title('Error Rate vs KNN Values')\n",
    "plt.xlabel('K')\n",
    "plt.ylabel('Error rate')"
   ]
  },
  {
   "cell_type": "code",
   "execution_count": null,
   "metadata": {},
   "outputs": [],
   "source": []
  }
 ],
 "metadata": {
  "kernelspec": {
   "display_name": "Python 3",
   "language": "python",
   "name": "python3"
  },
  "language_info": {
   "codemirror_mode": {
    "name": "ipython",
    "version": 3
   },
   "file_extension": ".py",
   "mimetype": "text/x-python",
   "name": "python",
   "nbconvert_exporter": "python",
   "pygments_lexer": "ipython3",
   "version": "3.8.5"
  }
 },
 "nbformat": 4,
 "nbformat_minor": 4
}
