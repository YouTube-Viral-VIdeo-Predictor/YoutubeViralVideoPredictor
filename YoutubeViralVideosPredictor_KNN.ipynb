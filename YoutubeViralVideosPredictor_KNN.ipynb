{
 "cells": [
  {
   "cell_type": "code",
   "execution_count": 1,
   "metadata": {
    "scrolled": false
   },
   "outputs": [],
   "source": [
    "#pip install --upgrade google-api-python-client"
   ]
  },
  {
   "cell_type": "code",
   "execution_count": 2,
   "metadata": {
    "scrolled": false
   },
   "outputs": [],
   "source": [
    "#pip install --upgrade google-auth-oauthlib google-auth-httplib2"
   ]
  },
  {
   "cell_type": "code",
   "execution_count": 39,
   "metadata": {},
   "outputs": [],
   "source": [
    "import os\n",
    "import google_auth_oauthlib.flow\n",
    "import googleapiclient.discovery\n",
    "import googleapiclient.errors\n",
    "import pandas as pd\n",
    "import numpy as np\n",
    "import seaborn as sns\n",
    "from matplotlib import pyplot as plt\n",
    "%matplotlib inline"
   ]
  },
  {
   "cell_type": "code",
   "execution_count": 4,
   "metadata": {},
   "outputs": [],
   "source": [
    "scopes = [\"https://www.googleapis.com/auth/youtube.force-ssl\"]"
   ]
  },
  {
   "cell_type": "code",
   "execution_count": 5,
   "metadata": {},
   "outputs": [
    {
     "name": "stdout",
     "output_type": "stream",
     "text": [
      "Please visit this URL to authorize this application: https://accounts.google.com/o/oauth2/auth?response_type=code&client_id=615288565318-dd7us4i9infmai01fr3n2nlff2cb44f3.apps.googleusercontent.com&redirect_uri=urn%3Aietf%3Awg%3Aoauth%3A2.0%3Aoob&scope=https%3A%2F%2Fwww.googleapis.com%2Fauth%2Fyoutube.force-ssl&state=zOcHVuMZQELEGYvtUYDVtg2PJNjv2W&prompt=consent&access_type=offline\n",
      "Enter the authorization code: 4/1AY0e-g5kzZeMFJUwBXmq_LojvtpfVooXBO8eGcUwIBxcglHPMfWAikMK5Wg\n"
     ]
    }
   ],
   "source": [
    "os.environ[\"OAUTHLIB_INSECURE_TRANSPORT\"] = \"1\"\n",
    "    \n",
    "api_service_name = \"youtube\"\n",
    "api_version = \"v3\"\n",
    "client_secrets_file = \"client_secret_615288565318-dd7us4i9infmai01fr3n2nlff2cb44f3.apps.googleusercontent.com.json\"\n",
    "    \n",
    "flow = google_auth_oauthlib.flow.InstalledAppFlow.from_client_secrets_file(client_secrets_file, scopes)\n",
    "credentials = flow.run_console()\n",
    "youtube = googleapiclient.discovery.build(api_service_name, api_version, credentials=credentials)"
   ]
  },
  {
   "cell_type": "code",
   "execution_count": 6,
   "metadata": {},
   "outputs": [],
   "source": [
    "# uses the youtube api to search for the first 25 videos of the given keyword\n",
    "# returns the ids of these videos\n",
    "def simple_search(keywords, num_results):\n",
    "    request = youtube.search().list(\n",
    "        q=keywords,\n",
    "        part=\"id\",\n",
    "        type=\"video\",\n",
    "        fields=\"items/id\",\n",
    "        maxResults=num_results\n",
    "    )\n",
    "    response = request.execute()\n",
    "    \n",
    "    videos = []\n",
    "    for search_result in response.get(\"items\",[]):\n",
    "        videos.append(\"%s\" % (search_result[\"id\"][\"videoId\"]))\n",
    "    \n",
    "    return videos"
   ]
  },
  {
   "cell_type": "code",
   "execution_count": 7,
   "metadata": {},
   "outputs": [],
   "source": [
    "def get_statistics(video_ids):\n",
    "    statistics = []\n",
    "    for vid_id in video_ids:\n",
    "        request = youtube.videos().list(part=\"statistics\",id=vid_id)\n",
    "        response = request.execute()\n",
    "        statistics.append(response)\n",
    "    \n",
    "    return statistics"
   ]
  },
  {
   "cell_type": "code",
   "execution_count": 8,
   "metadata": {},
   "outputs": [],
   "source": [
    "def get_likes(video_stats):\n",
    "    likes = []\n",
    "    for vid_stat in video_stats:\n",
    "        try:\n",
    "            likes.append(int(vid_stat['items'][0]['statistics']['likeCount']))\n",
    "        except:\n",
    "            likes.append(0)\n",
    "            #if video disabled likes\n",
    "    \n",
    "    return likes"
   ]
  },
  {
   "cell_type": "code",
   "execution_count": 9,
   "metadata": {},
   "outputs": [],
   "source": [
    "def get_dislikes(video_stats):\n",
    "    dislikes = []\n",
    "    for vid_stat in video_stats:\n",
    "        try:\n",
    "            dislikes.append(int(vid_stat['items'][0]['statistics']['dislikeCount']))\n",
    "        except:\n",
    "            dislikes.append(0)\n",
    "            #if video disabled likes\n",
    "    \n",
    "    return dislikes"
   ]
  },
  {
   "cell_type": "code",
   "execution_count": 20,
   "metadata": {},
   "outputs": [],
   "source": [
    "def get_views(video_stats):\n",
    "    views = []\n",
    "    for vid_stat in video_stats:\n",
    "        try:\n",
    "            views.append(int(vid_stat['items'][0]['statistics']['viewCount']))\n",
    "        except:\n",
    "            views.append(0)\n",
    "    \n",
    "    return views"
   ]
  },
  {
   "cell_type": "code",
   "execution_count": 10,
   "metadata": {},
   "outputs": [
    {
     "data": {
      "text/plain": [
       "'\\ndef like_dislike_ratio(video_likes, video_dislikes):\\n    ratio = []\\n    for index in range(len(video_likes)):\\n        if(video_dislikes[index] != 0):\\n            temp_ratio = float(video_likes[index])/float(video_dislikes[index])\\n            ratio.append(temp_ratio)\\n        else:\\n            ratio.append(0)\\n    \\n    return ratio\\n'"
      ]
     },
     "execution_count": 10,
     "metadata": {},
     "output_type": "execute_result"
    }
   ],
   "source": [
    "\"\"\"\n",
    "def like_dislike_ratio(video_likes, video_dislikes):\n",
    "    ratio = []\n",
    "    for index in range(len(video_likes)):\n",
    "        if(video_dislikes[index] != 0):\n",
    "            temp_ratio = float(video_likes[index])/float(video_dislikes[index])\n",
    "            ratio.append(temp_ratio)\n",
    "        else:\n",
    "            ratio.append(0)\n",
    "    \n",
    "    return ratio\n",
    "\"\"\""
   ]
  },
  {
   "cell_type": "code",
   "execution_count": 11,
   "metadata": {},
   "outputs": [
    {
     "data": {
      "text/plain": [
       "'\\nmusic_vids=simple_search(\"music\",2)\\nsports_vids=simple_search(\"sports\",2)\\ngaming_vids=simple_search(\"gaming\",2)\\nmovies_vids=simple_search(\"movies and shows\",2)\\nnews_vids=simple_search(\"news\",2)\\nlive_vids=simple_search(\"live\",2)\\nfashion_vids=simple_search(\"fashion and beauty\",2)\\nlearning_vids=simple_search(\"learning\",2)\\n'"
      ]
     },
     "execution_count": 11,
     "metadata": {},
     "output_type": "execute_result"
    }
   ],
   "source": [
    "\"\"\"\n",
    "music_vids=simple_search(\"music\",2)\n",
    "sports_vids=simple_search(\"sports\",2)\n",
    "gaming_vids=simple_search(\"gaming\",2)\n",
    "movies_vids=simple_search(\"movies and shows\",2)\n",
    "news_vids=simple_search(\"news\",2)\n",
    "live_vids=simple_search(\"live\",2)\n",
    "fashion_vids=simple_search(\"fashion and beauty\",2)\n",
    "learning_vids=simple_search(\"learning\",2)\n",
    "\"\"\""
   ]
  },
  {
   "cell_type": "code",
   "execution_count": 12,
   "metadata": {},
   "outputs": [
    {
     "data": {
      "text/plain": [
       "'\\nprint(music_vids)\\nprint(sports_vids)\\nprint(gaming_vids)\\nprint(movies_vids)\\nprint(news_vids)\\nprint(live_vids)\\nprint(fashion_vids)\\nprint(learning_vids)\\n'"
      ]
     },
     "execution_count": 12,
     "metadata": {},
     "output_type": "execute_result"
    }
   ],
   "source": [
    "\"\"\"\n",
    "print(music_vids)\n",
    "print(sports_vids)\n",
    "print(gaming_vids)\n",
    "print(movies_vids)\n",
    "print(news_vids)\n",
    "print(live_vids)\n",
    "print(fashion_vids)\n",
    "print(learning_vids)\n",
    "\"\"\""
   ]
  },
  {
   "cell_type": "code",
   "execution_count": 13,
   "metadata": {},
   "outputs": [],
   "source": [
    "#df = pd.DataFrame(data=music_vids+sports_vids+gaming_vids+movies_vids+news_vids+live_vids+fashion_vids+learning_vids,columns=[\"Video_IDs\"])\n",
    "#print(df)"
   ]
  },
  {
   "cell_type": "code",
   "execution_count": 14,
   "metadata": {},
   "outputs": [],
   "source": [
    "#df.to_csv('video_ids.csv', index=False)"
   ]
  },
  {
   "cell_type": "code",
   "execution_count": 15,
   "metadata": {},
   "outputs": [
    {
     "name": "stdout",
     "output_type": "stream",
     "text": [
      "      Video_IDs Comment_count              Channeal_IDs Subsribers\n",
      "0   hgFIFuDLFyo             0  UCJhjE7wbdYAae1G25m0tHAA    2960000\n",
      "1   6bkbKKVAgcc             0  UCwobzUc3z-0PrFpoRxNszXQ    1520000\n",
      "2   k9NpvVFnYaQ          1122  UCqZQlzSHbVJrwrn5XvzrzcA     265000\n",
      "3   szeXkBYq5HU          3492  UCvyz2XB3Seq9MCbtORt1WIw    2260000\n",
      "4   QV6qeIi_Uoc          2363  UCXGgrKt94gR6lmN4aN3mYTg     102000\n",
      "5   y-X-xauUrTY           245  UCVjCsq6PCd1RxrhkOfuGMsw    4970000\n",
      "6   ib1KTQxhomY           194  UC2iUwfYi_1FCGGqhOUNx-iA   23500000\n",
      "7   2hvEoO_2XYk           455  UCW1NogUPtP51hNUfaQatNBA   10100000\n",
      "8   eE9Oo0CfVN0             0  UCeY0bbntWzzVIaj2z3QigXg    1530000\n",
      "9   4xg3aIdW_wA           957  UCeY0bbntWzzVIaj2z3QigXg    1530000\n",
      "10  cZ564voadgQ          3573  UCu59yAFE8fM0sVNTipR4edw    5420000\n",
      "11  GWerK2v2C70          Null                      Null       Null\n",
      "12  SrvQBD6kfRU           125  UC3rLoj87ctEHCcS7BuvIzkQ    8060000\n",
      "13  -3d7JPqEXws            31  UCcjoLhqu3nyOFmdqF17LeBQ    4090000\n",
      "14  Rr0uFzAOQus             0  UC5Ti4_DVp7LW34PjEwB13Xg    5310000\n",
      "15  OTuph9pJWU4           173  UCxlJ45KjG4XVcQ_hd8j227A    1670000\n"
     ]
    }
   ],
   "source": [
    "youtube_video_dfs = pd.DataFrame(data=pd.read_csv('Comment_count_and_Sub_count.csv'))\n",
    "print(youtube_video_dfs)"
   ]
  },
  {
   "cell_type": "code",
   "execution_count": 16,
   "metadata": {},
   "outputs": [
    {
     "data": {
      "text/plain": [
       "'\\nfor vid_stat in video_stats:\\n    print(vid_stat, \"\\n\\n\")\\n'"
      ]
     },
     "execution_count": 16,
     "metadata": {},
     "output_type": "execute_result"
    }
   ],
   "source": [
    "video_stats = get_statistics(youtube_video_dfs['Video_IDs'])\n",
    "\"\"\"\n",
    "for vid_stat in video_stats:\n",
    "    print(vid_stat, \"\\n\\n\")\n",
    "\"\"\""
   ]
  },
  {
   "cell_type": "code",
   "execution_count": 21,
   "metadata": {},
   "outputs": [
    {
     "name": "stdout",
     "output_type": "stream",
     "text": [
      "[208345, 158923, 854880, 7394197, 869202, 341493, 39848, 438374, 434356, 294508, 696387, 0, 56224, 32780, 6283393, 3577233]\n",
      "[965, 1104, 7361, 137163, 26476, 4473, 1018, 3469, 2040, 2566, 3631, 0, 2223, 751, 0, 16150]\n",
      "[20, 78, 226, 915, 531, 98, 91, 962, 345, 191, 1760, 0, 53, 21, 0, 2284]\n"
     ]
    }
   ],
   "source": [
    "video_views = get_views(video_stats)\n",
    "video_likes = get_likes(video_stats)\n",
    "video_dislikes = get_dislikes(video_stats)\n",
    "#like_dislike_ratio = like_dislike_ratio(video_likes, video_dislikes)\n",
    "print(video_views)\n",
    "print(video_likes)\n",
    "print(video_dislikes)\n",
    "#print(like_dislike_ratio)"
   ]
  },
  {
   "cell_type": "code",
   "execution_count": 18,
   "metadata": {},
   "outputs": [],
   "source": [
    "youtube_video_dfs['Likes'] = video_likes\n",
    "youtube_video_dfs['Dislikes'] = video_dislikes\n",
    "youtube_video_dfs.to_csv('video_data.csv', index=False)"
   ]
  },
  {
   "cell_type": "code",
   "execution_count": 22,
   "metadata": {},
   "outputs": [
    {
     "name": "stdout",
     "output_type": "stream",
     "text": [
      "      Video_IDs Comment_count              Channeal_IDs Subsribers   Likes  \\\n",
      "0   hgFIFuDLFyo             0  UCJhjE7wbdYAae1G25m0tHAA    2960000     965   \n",
      "1   6bkbKKVAgcc             0  UCwobzUc3z-0PrFpoRxNszXQ    1520000    1104   \n",
      "2   k9NpvVFnYaQ          1122  UCqZQlzSHbVJrwrn5XvzrzcA     265000    7361   \n",
      "3   szeXkBYq5HU          3492  UCvyz2XB3Seq9MCbtORt1WIw    2260000  137163   \n",
      "4   QV6qeIi_Uoc          2363  UCXGgrKt94gR6lmN4aN3mYTg     102000   26476   \n",
      "5   y-X-xauUrTY           245  UCVjCsq6PCd1RxrhkOfuGMsw    4970000    4473   \n",
      "6   ib1KTQxhomY           194  UC2iUwfYi_1FCGGqhOUNx-iA   23500000    1018   \n",
      "7   2hvEoO_2XYk           455  UCW1NogUPtP51hNUfaQatNBA   10100000    3469   \n",
      "8   eE9Oo0CfVN0             0  UCeY0bbntWzzVIaj2z3QigXg    1530000    2040   \n",
      "9   4xg3aIdW_wA           957  UCeY0bbntWzzVIaj2z3QigXg    1530000    2566   \n",
      "10  cZ564voadgQ          3573  UCu59yAFE8fM0sVNTipR4edw    5420000    3631   \n",
      "11  GWerK2v2C70          Null                      Null       Null       0   \n",
      "12  SrvQBD6kfRU           125  UC3rLoj87ctEHCcS7BuvIzkQ    8060000    2223   \n",
      "13  -3d7JPqEXws            31  UCcjoLhqu3nyOFmdqF17LeBQ    4090000     751   \n",
      "14  Rr0uFzAOQus             0  UC5Ti4_DVp7LW34PjEwB13Xg    5310000       0   \n",
      "15  OTuph9pJWU4           173  UCxlJ45KjG4XVcQ_hd8j227A    1670000   16150   \n",
      "\n",
      "    Dislikes    Views  \n",
      "0         20   208345  \n",
      "1         78   158923  \n",
      "2        226   854880  \n",
      "3        915  7394197  \n",
      "4        531   869202  \n",
      "5         98   341493  \n",
      "6         91    39848  \n",
      "7        962   438374  \n",
      "8        345   434356  \n",
      "9        191   294508  \n",
      "10      1760   696387  \n",
      "11         0        0  \n",
      "12        53    56224  \n",
      "13        21    32780  \n",
      "14         0  6283393  \n",
      "15      2284  3577233  \n"
     ]
    }
   ],
   "source": [
    "youtube_video_dfs['Views'] = video_views\n",
    "print(youtube_video_dfs)"
   ]
  },
  {
   "cell_type": "code",
   "execution_count": 87,
   "metadata": {},
   "outputs": [
    {
     "name": "stdout",
     "output_type": "stream",
     "text": [
      "      views subscriber   likes  dislikes comments\n",
      "0    208345    2960000     965        20        0\n",
      "1    158923    1520000    1104        78        0\n",
      "2    854880     265000    7361       226     1122\n",
      "3   7394197    2260000  137163       915     3492\n",
      "4    869202     102000   26476       531     2363\n",
      "5    341493    4970000    4473        98      245\n",
      "6     39848   23500000    1018        91      194\n",
      "7    438374   10100000    3469       962      455\n",
      "8    434356    1530000    2040       345        0\n",
      "9    294508    1530000    2566       191      957\n",
      "10   696387    5420000    3631      1760     3573\n",
      "11        0       Null       0         0     Null\n",
      "12    56224    8060000    2223        53      125\n",
      "13    32780    4090000     751        21       31\n",
      "14  6283393    5310000       0         0        0\n",
      "15  3577233    1670000   16150      2284      173\n"
     ]
    }
   ],
   "source": [
    "d = {'views': youtube_video_dfs['Views'], 'subscriber': youtube_video_dfs['Subsribers'], 'likes': youtube_video_dfs['Likes'], 'dislikes': youtube_video_dfs['Dislikes'], 'comments': youtube_video_dfs['Comment_count']}\n",
    "#video_data_df = pd.DataFrame([youtube_video_dfs['Views'], youtube_video_dfs['Subsribers'], youtube_video_dfs['Likes'], youtube_video_dfs['Dislikes'], youtube_video_dfs['Comment_count']], columns=['views','subscriber', 'likes', 'dislikes', 'comments'])\n",
    "video_data_df = pd.DataFrame(data=d)\n",
    "print(video_data_df)"
   ]
  },
  {
   "cell_type": "code",
   "execution_count": 94,
   "metadata": {},
   "outputs": [],
   "source": [
    "def determine_target (video_views, channel_subscribers):\n",
    "    target = []\n",
    "    for i in range(len(video_views)):\n",
    "        temp1 = int(video_views[i])\n",
    "        temp2 = int(channel_subscribers[i])\n",
    "        if temp1 > temp2:\n",
    "            target.append(1)\n",
    "        else:\n",
    "            target.append(0)\n",
    "#    for views in video_views:\n",
    "#        if views > 1000000:\n",
    "#            target.append(1)\n",
    "#        else:\n",
    "#            target.append(0)\n",
    "    return target"
   ]
  },
  {
   "cell_type": "code",
   "execution_count": 102,
   "metadata": {},
   "outputs": [
    {
     "name": "stdout",
     "output_type": "stream",
     "text": [
      "0      208345\n",
      "1      158923\n",
      "2      854880\n",
      "3     7394197\n",
      "4      869202\n",
      "5      341493\n",
      "6       39848\n",
      "7      438374\n",
      "8      434356\n",
      "9      294508\n",
      "10     696387\n",
      "11      56224\n",
      "12      32780\n",
      "13    6283393\n",
      "14    3577233\n",
      "Name: views, dtype: int64\n",
      "0      2960000\n",
      "1      1520000\n",
      "2       265000\n",
      "3      2260000\n",
      "4       102000\n",
      "5      4970000\n",
      "6     23500000\n",
      "7     10100000\n",
      "8      1530000\n",
      "9      1530000\n",
      "10     5420000\n",
      "11     8060000\n",
      "12     4090000\n",
      "13     5310000\n",
      "14     1670000\n",
      "Name: subscriber, dtype: object\n",
      "      views subscriber   likes  dislikes comments\n",
      "0    208345    2960000     965        20        0\n",
      "1    158923    1520000    1104        78        0\n",
      "2    854880     265000    7361       226     1122\n",
      "3   7394197    2260000  137163       915     3492\n",
      "4    869202     102000   26476       531     2363\n",
      "5    341493    4970000    4473        98      245\n",
      "6     39848   23500000    1018        91      194\n",
      "7    438374   10100000    3469       962      455\n",
      "8    434356    1530000    2040       345        0\n",
      "9    294508    1530000    2566       191      957\n",
      "10   696387    5420000    3631      1760     3573\n",
      "11    56224    8060000    2223        53      125\n",
      "12    32780    4090000     751        21       31\n",
      "13  6283393    5310000       0         0        0\n",
      "14  3577233    1670000   16150      2284      173\n"
     ]
    }
   ],
   "source": [
    "#video_data_df = video_data_df.drop(11, axis = 0)\n",
    "video_data_df = video_data_df.reset_index(drop=True)\n",
    "print(video_data_df['views'])\n",
    "print(video_data_df['subscriber'])\n",
    "print (video_data_df)"
   ]
  },
  {
   "cell_type": "code",
   "execution_count": 103,
   "metadata": {},
   "outputs": [
    {
     "name": "stdout",
     "output_type": "stream",
     "text": [
      "[0, 0, 1, 1, 1, 0, 0, 0, 0, 0, 0, 0, 0, 1, 1]\n"
     ]
    }
   ],
   "source": [
    "\n",
    "target = determine_target(video_data_df['views'], video_data_df['subscriber'])\n",
    "print (target)"
   ]
  },
  {
   "cell_type": "code",
   "execution_count": 104,
   "metadata": {},
   "outputs": [
    {
     "name": "stdout",
     "output_type": "stream",
     "text": [
      "      views subscriber   likes  dislikes comments  target\n",
      "0    208345    2960000     965        20        0       0\n",
      "1    158923    1520000    1104        78        0       0\n",
      "2    854880     265000    7361       226     1122       1\n",
      "3   7394197    2260000  137163       915     3492       1\n",
      "4    869202     102000   26476       531     2363       1\n",
      "5    341493    4970000    4473        98      245       0\n",
      "6     39848   23500000    1018        91      194       0\n",
      "7    438374   10100000    3469       962      455       0\n",
      "8    434356    1530000    2040       345        0       0\n",
      "9    294508    1530000    2566       191      957       0\n",
      "10   696387    5420000    3631      1760     3573       0\n",
      "11    56224    8060000    2223        53      125       0\n",
      "12    32780    4090000     751        21       31       0\n",
      "13  6283393    5310000       0         0        0       1\n",
      "14  3577233    1670000   16150      2284      173       1\n"
     ]
    }
   ],
   "source": [
    "video_data_df['target'] = target\n",
    "print(video_data_df)"
   ]
  },
  {
   "cell_type": "code",
   "execution_count": 42,
   "metadata": {
    "scrolled": false
   },
   "outputs": [],
   "source": [
    "from sklearn.preprocessing import StandardScaler\n",
    "scaler = StandardScaler()"
   ]
  },
  {
   "cell_type": "code",
   "execution_count": 59,
   "metadata": {},
   "outputs": [
    {
     "name": "stdout",
     "output_type": "stream",
     "text": [
      "      views subscriber   likes  dislikes comments  target\n",
      "0    208345    2960000     965        20        0       0\n",
      "1    158923    1520000    1104        78        0       0\n",
      "2    854880     265000    7361       226     1122       0\n",
      "3   7394197    2260000  137163       915     3492       1\n",
      "4    869202     102000   26476       531     2363       0\n",
      "5    341493    4970000    4473        98      245       0\n",
      "6     39848   23500000    1018        91      194       0\n",
      "7    438374   10100000    3469       962      455       0\n",
      "8    434356    1530000    2040       345        0       0\n",
      "9    294508    1530000    2566       191      957       0\n",
      "10   696387    5420000    3631      1760     3573       0\n",
      "12    56224    8060000    2223        53      125       0\n",
      "13    32780    4090000     751        21       31       0\n",
      "14  6283393    5310000       0         0        0       1\n",
      "15  3577233    1670000   16150      2284      173       1\n"
     ]
    }
   ],
   "source": [
    "#df = video_data_df.drop(11, axis = 0)\n",
    "#print(df)"
   ]
  },
  {
   "cell_type": "code",
   "execution_count": 105,
   "metadata": {},
   "outputs": [
    {
     "name": "stdout",
     "output_type": "stream",
     "text": [
      "    subscribers     likes  dislikes  comments\n",
      "0     -0.339065 -0.386314 -0.722049 -0.696556\n",
      "1     -0.592598 -0.382182 -0.635701 -0.696556\n",
      "2     -0.813559 -0.196165 -0.415364  0.224343\n",
      "3     -0.462311  3.662777  0.610392  2.169556\n",
      "4     -0.842258  0.372114  0.038708  1.242912\n",
      "5      0.014825 -0.282023 -0.605925 -0.495469\n",
      "6      3.277302 -0.384739 -0.616347 -0.537328\n",
      "7      0.918036 -0.311872  0.680363 -0.323108\n",
      "8     -0.590838 -0.354355 -0.238202 -0.696556\n",
      "9     -0.590838 -0.338718 -0.467471  0.088916\n",
      "10     0.094054 -0.307056  1.868394  2.236038\n",
      "11     0.558864 -0.348915 -0.672920 -0.593960\n",
      "12    -0.140112 -0.392676 -0.720560 -0.671112\n",
      "13     0.074687 -0.415003 -0.751824 -0.696556\n",
      "14    -0.566189  0.065127  2.648504 -0.554564\n"
     ]
    }
   ],
   "source": [
    "scaler.fit(df.drop(['views', 'target'], axis = 1))\n",
    "scaled_features = scaler.transform(df.drop(['views', 'target'], axis = 1))\n",
    "df_features = pd.DataFrame(scaled_features, columns = ['subscribers', 'likes', 'dislikes', 'comments'])\n",
    "print(df_features)"
   ]
  },
  {
   "cell_type": "code",
   "execution_count": 61,
   "metadata": {},
   "outputs": [],
   "source": [
    "from sklearn.model_selection import train_test_split"
   ]
  },
  {
   "cell_type": "code",
   "execution_count": 106,
   "metadata": {},
   "outputs": [],
   "source": [
    "x = df_features\n",
    "y = df['target']\n",
    "x_train, x_test, y_train, y_test = train_test_split(x, y, test_size = 0.30, random_state = 101)"
   ]
  },
  {
   "cell_type": "code",
   "execution_count": 66,
   "metadata": {},
   "outputs": [],
   "source": [
    "from sklearn.neighbors import KNeighborsClassifier"
   ]
  },
  {
   "cell_type": "code",
   "execution_count": 107,
   "metadata": {},
   "outputs": [],
   "source": [
    "knn = KNeighborsClassifier(n_neighbors = 10)\n",
    "knn.fit(x_train, y_train)\n",
    "predict = knn.predict(x_test)"
   ]
  },
  {
   "cell_type": "code",
   "execution_count": 108,
   "metadata": {},
   "outputs": [
    {
     "data": {
      "text/plain": [
       "array([0, 0, 0, 0, 0], dtype=int64)"
      ]
     },
     "execution_count": 108,
     "metadata": {},
     "output_type": "execute_result"
    }
   ],
   "source": [
    "predict"
   ]
  },
  {
   "cell_type": "code",
   "execution_count": 109,
   "metadata": {},
   "outputs": [
    {
     "name": "stdout",
     "output_type": "stream",
     "text": [
      "[[3 0]\n",
      " [2 0]]\n",
      "              precision    recall  f1-score   support\n",
      "\n",
      "           0       0.60      1.00      0.75         3\n",
      "           1       0.00      0.00      0.00         2\n",
      "\n",
      "    accuracy                           0.60         5\n",
      "   macro avg       0.30      0.50      0.37         5\n",
      "weighted avg       0.36      0.60      0.45         5\n",
      "\n"
     ]
    },
    {
     "name": "stderr",
     "output_type": "stream",
     "text": [
      "C:\\Users\\bradl\\anaconda3\\lib\\site-packages\\sklearn\\metrics\\_classification.py:1221: UndefinedMetricWarning: Precision and F-score are ill-defined and being set to 0.0 in labels with no predicted samples. Use `zero_division` parameter to control this behavior.\n",
      "  _warn_prf(average, modifier, msg_start, len(result))\n"
     ]
    }
   ],
   "source": [
    "from sklearn.metrics import classification_report, confusion_matrix\n",
    "print (confusion_matrix(y_test, predict))\n",
    "print (classification_report(y_test, predict))"
   ]
  },
  {
   "cell_type": "code",
   "execution_count": 110,
   "metadata": {},
   "outputs": [],
   "source": [
    "error_rate = []\n",
    "for i in range(1,10):\n",
    "    knn = KNeighborsClassifier(n_neighbors = i)\n",
    "    knn.fit(x_train, y_train)\n",
    "    predict_i = knn.predict(x_test)\n",
    "    error_rate.append(np.mean(predict_i!=y_test))"
   ]
  },
  {
   "cell_type": "code",
   "execution_count": 111,
   "metadata": {},
   "outputs": [
    {
     "data": {
      "text/plain": [
       "[0.4, 0.4, 0.4, 0.4, 0.4, 0.4, 0.4, 0.4, 0.4]"
      ]
     },
     "execution_count": 111,
     "metadata": {},
     "output_type": "execute_result"
    }
   ],
   "source": [
    "error_rate"
   ]
  },
  {
   "cell_type": "code",
   "execution_count": 112,
   "metadata": {},
   "outputs": [
    {
     "data": {
      "text/plain": [
       "Text(0, 0.5, 'Error rate')"
      ]
     },
     "execution_count": 112,
     "metadata": {},
     "output_type": "execute_result"
    },
    {
     "data": {
      "image/png": "[encoded data removed]",
      "text/plain": [
       "<Figure size 720x432 with 1 Axes>"
      ]
     },
     "metadata": {
      "needs_background": "light"
     },
     "output_type": "display_data"
    }
   ],
   "source": [
    "plt.figure(figsize = (10,6))\n",
    "plt.plot(range(1,10), error_rate, color = 'blue', linestyle = 'dashed', marker = 'o', markersize = 10, markerfacecolor = 'red')\n",
    "plt.title('Error Rate vs KNN Values')\n",
    "plt.xlabel('K')\n",
    "plt.ylabel('Error rate')"
   ]
  },
  {
   "cell_type": "code",
   "execution_count": null,
   "metadata": {},
   "outputs": [],
   "source": []
  }
 ],
 "metadata": {
  "kernelspec": {
   "display_name": "Python 3",
   "language": "python",
   "name": "python3"
  },
  "language_info": {
   "codemirror_mode": {
    "name": "ipython",
    "version": 3
   },
   "file_extension": ".py",
   "mimetype": "text/x-python",
   "name": "python",
   "nbconvert_exporter": "python",
   "pygments_lexer": "ipython3",
   "version": "3.8.5"
  }
 },
 "nbformat": 4,
 "nbformat_minor": 4
}
